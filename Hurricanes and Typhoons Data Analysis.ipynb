{
 "cells": [
  {
   "cell_type": "markdown",
   "id": "f195709c",
   "metadata": {},
   "source": [
    "# Hurricanes and Typhoons, 1851-2014"
   ]
  },
  {
   "cell_type": "code",
   "execution_count": null,
   "id": "c33773b2",
   "metadata": {},
   "outputs": [],
   "source": [
    "Data set contains 49106 Northeast and North Central Pacific hurricane database "
   ]
  },
  {
   "cell_type": "code",
   "execution_count": 1,
   "id": "5f932e33",
   "metadata": {},
   "outputs": [],
   "source": [
    "# Status of Hurricanes and typhoons with abbrivations:\n",
    "    \n",
    "# TD – Tropical cyclone of tropical depression intensity (< 34 knots)\n",
    "# TS – Tropical cyclone of tropical storm intensity (34-63 knots)\n",
    "# HU – Tropical cyclone of hurricane intensity (> 64 knots)\n",
    "# EX – Extratropical cyclone (of any intensity)\n",
    "# SD – Subtropical cyclone of subtropical depression intensity (< 34 knots)\n",
    "# SS – Subtropical cyclone of subtropical storm intensity (> 34 knots)\n",
    "# LO – A low that is neither a tropical cyclone, a subtropical cyclone, nor an extratropical cyclone (of any intensity)\n",
    "# WV – Tropical Wave (of any intensity)\n",
    "# DB – Disturbance (of any intensity)"
   ]
  },
  {
   "cell_type": "markdown",
   "id": "195d07e1",
   "metadata": {},
   "source": [
    "# Contents"
   ]
  },
  {
   "cell_type": "code",
   "execution_count": 2,
   "id": "65e816cc",
   "metadata": {},
   "outputs": [],
   "source": [
    "#a) Data Loading\n",
    "#b) Data Cleaning and processing\n",
    "#c) Implimntation of different Algoritm \n",
    "#d) Checking for maximum accuracy among algorithm\n",
    "#e) Exploration based on Hurricanes and Typhoons\n",
    "#f) Exploration based on Hurricanes and Typhoons status\n",
    "#g) Exploration based on Month\n",
    "#h) Exploration based on Year\n",
    "#i) Exploration based on Minimum Pressure at different Status\n",
    "#j) Exploration based on Maximum Wind Speed at different Status"
   ]
  },
  {
   "cell_type": "code",
   "execution_count": 3,
   "id": "0f909bef",
   "metadata": {},
   "outputs": [],
   "source": [
    "import warnings\n",
    "warnings.filterwarnings('ignore')"
   ]
  },
  {
   "cell_type": "code",
   "execution_count": 4,
   "id": "1babec21",
   "metadata": {},
   "outputs": [],
   "source": [
    "import pandas as pd\n",
    "import seaborn as sns\n",
    "import matplotlib.pyplot as plt\n",
    "from sklearn import metrics\n",
    "from sklearn import tree\n",
    "from sklearn.model_selection import train_test_split\n",
    "from sklearn.linear_model import LogisticRegression\n",
    "from sklearn.ensemble import RandomForestClassifier\n",
    "from sklearn.model_selection import GridSearchCV"
   ]
  },
  {
   "cell_type": "markdown",
   "id": "186f3680",
   "metadata": {},
   "source": [
    "Read the CSV file"
   ]
  },
  {
   "cell_type": "code",
   "execution_count": 5,
   "id": "5d3e9729",
   "metadata": {},
   "outputs": [
    {
     "data": {
      "text/html": [
       "<div>\n",
       "<style scoped>\n",
       "    .dataframe tbody tr th:only-of-type {\n",
       "        vertical-align: middle;\n",
       "    }\n",
       "\n",
       "    .dataframe tbody tr th {\n",
       "        vertical-align: top;\n",
       "    }\n",
       "\n",
       "    .dataframe thead th {\n",
       "        text-align: right;\n",
       "    }\n",
       "</style>\n",
       "<table border=\"1\" class=\"dataframe\">\n",
       "  <thead>\n",
       "    <tr style=\"text-align: right;\">\n",
       "      <th></th>\n",
       "      <th>ID</th>\n",
       "      <th>Name</th>\n",
       "      <th>Date</th>\n",
       "      <th>Time</th>\n",
       "      <th>Event</th>\n",
       "      <th>Status</th>\n",
       "      <th>Latitude</th>\n",
       "      <th>Longitude</th>\n",
       "      <th>Maximum Wind</th>\n",
       "      <th>Minimum Pressure</th>\n",
       "      <th>...</th>\n",
       "      <th>Low Wind SW</th>\n",
       "      <th>Low Wind NW</th>\n",
       "      <th>Moderate Wind NE</th>\n",
       "      <th>Moderate Wind SE</th>\n",
       "      <th>Moderate Wind SW</th>\n",
       "      <th>Moderate Wind NW</th>\n",
       "      <th>High Wind NE</th>\n",
       "      <th>High Wind SE</th>\n",
       "      <th>High Wind SW</th>\n",
       "      <th>High Wind NW</th>\n",
       "    </tr>\n",
       "  </thead>\n",
       "  <tbody>\n",
       "    <tr>\n",
       "      <th>0</th>\n",
       "      <td>EP011949</td>\n",
       "      <td>UNNAMED</td>\n",
       "      <td>19490611</td>\n",
       "      <td>0</td>\n",
       "      <td></td>\n",
       "      <td>TS</td>\n",
       "      <td>20.2N</td>\n",
       "      <td>106.3W</td>\n",
       "      <td>45</td>\n",
       "      <td>-999</td>\n",
       "      <td>...</td>\n",
       "      <td>-999</td>\n",
       "      <td>-999</td>\n",
       "      <td>-999</td>\n",
       "      <td>-999</td>\n",
       "      <td>-999</td>\n",
       "      <td>-999</td>\n",
       "      <td>-999</td>\n",
       "      <td>-999</td>\n",
       "      <td>-999</td>\n",
       "      <td>-999</td>\n",
       "    </tr>\n",
       "    <tr>\n",
       "      <th>1</th>\n",
       "      <td>EP011949</td>\n",
       "      <td>UNNAMED</td>\n",
       "      <td>19490611</td>\n",
       "      <td>600</td>\n",
       "      <td></td>\n",
       "      <td>TS</td>\n",
       "      <td>20.2N</td>\n",
       "      <td>106.4W</td>\n",
       "      <td>45</td>\n",
       "      <td>-999</td>\n",
       "      <td>...</td>\n",
       "      <td>-999</td>\n",
       "      <td>-999</td>\n",
       "      <td>-999</td>\n",
       "      <td>-999</td>\n",
       "      <td>-999</td>\n",
       "      <td>-999</td>\n",
       "      <td>-999</td>\n",
       "      <td>-999</td>\n",
       "      <td>-999</td>\n",
       "      <td>-999</td>\n",
       "    </tr>\n",
       "    <tr>\n",
       "      <th>2</th>\n",
       "      <td>EP011949</td>\n",
       "      <td>UNNAMED</td>\n",
       "      <td>19490611</td>\n",
       "      <td>1200</td>\n",
       "      <td></td>\n",
       "      <td>TS</td>\n",
       "      <td>20.2N</td>\n",
       "      <td>106.7W</td>\n",
       "      <td>45</td>\n",
       "      <td>-999</td>\n",
       "      <td>...</td>\n",
       "      <td>-999</td>\n",
       "      <td>-999</td>\n",
       "      <td>-999</td>\n",
       "      <td>-999</td>\n",
       "      <td>-999</td>\n",
       "      <td>-999</td>\n",
       "      <td>-999</td>\n",
       "      <td>-999</td>\n",
       "      <td>-999</td>\n",
       "      <td>-999</td>\n",
       "    </tr>\n",
       "    <tr>\n",
       "      <th>3</th>\n",
       "      <td>EP011949</td>\n",
       "      <td>UNNAMED</td>\n",
       "      <td>19490611</td>\n",
       "      <td>1800</td>\n",
       "      <td></td>\n",
       "      <td>TS</td>\n",
       "      <td>20.3N</td>\n",
       "      <td>107.7W</td>\n",
       "      <td>45</td>\n",
       "      <td>-999</td>\n",
       "      <td>...</td>\n",
       "      <td>-999</td>\n",
       "      <td>-999</td>\n",
       "      <td>-999</td>\n",
       "      <td>-999</td>\n",
       "      <td>-999</td>\n",
       "      <td>-999</td>\n",
       "      <td>-999</td>\n",
       "      <td>-999</td>\n",
       "      <td>-999</td>\n",
       "      <td>-999</td>\n",
       "    </tr>\n",
       "    <tr>\n",
       "      <th>4</th>\n",
       "      <td>EP011949</td>\n",
       "      <td>UNNAMED</td>\n",
       "      <td>19490612</td>\n",
       "      <td>0</td>\n",
       "      <td></td>\n",
       "      <td>TS</td>\n",
       "      <td>20.4N</td>\n",
       "      <td>108.6W</td>\n",
       "      <td>45</td>\n",
       "      <td>-999</td>\n",
       "      <td>...</td>\n",
       "      <td>-999</td>\n",
       "      <td>-999</td>\n",
       "      <td>-999</td>\n",
       "      <td>-999</td>\n",
       "      <td>-999</td>\n",
       "      <td>-999</td>\n",
       "      <td>-999</td>\n",
       "      <td>-999</td>\n",
       "      <td>-999</td>\n",
       "      <td>-999</td>\n",
       "    </tr>\n",
       "    <tr>\n",
       "      <th>...</th>\n",
       "      <td>...</td>\n",
       "      <td>...</td>\n",
       "      <td>...</td>\n",
       "      <td>...</td>\n",
       "      <td>...</td>\n",
       "      <td>...</td>\n",
       "      <td>...</td>\n",
       "      <td>...</td>\n",
       "      <td>...</td>\n",
       "      <td>...</td>\n",
       "      <td>...</td>\n",
       "      <td>...</td>\n",
       "      <td>...</td>\n",
       "      <td>...</td>\n",
       "      <td>...</td>\n",
       "      <td>...</td>\n",
       "      <td>...</td>\n",
       "      <td>...</td>\n",
       "      <td>...</td>\n",
       "      <td>...</td>\n",
       "      <td>...</td>\n",
       "    </tr>\n",
       "    <tr>\n",
       "      <th>26132</th>\n",
       "      <td>EP222015</td>\n",
       "      <td>SANDRA</td>\n",
       "      <td>20151128</td>\n",
       "      <td>1200</td>\n",
       "      <td></td>\n",
       "      <td>LO</td>\n",
       "      <td>21.7N</td>\n",
       "      <td>109.0W</td>\n",
       "      <td>35</td>\n",
       "      <td>1002</td>\n",
       "      <td>...</td>\n",
       "      <td>0</td>\n",
       "      <td>0</td>\n",
       "      <td>0</td>\n",
       "      <td>0</td>\n",
       "      <td>0</td>\n",
       "      <td>0</td>\n",
       "      <td>0</td>\n",
       "      <td>0</td>\n",
       "      <td>0</td>\n",
       "      <td>0</td>\n",
       "    </tr>\n",
       "    <tr>\n",
       "      <th>26133</th>\n",
       "      <td>EP222015</td>\n",
       "      <td>SANDRA</td>\n",
       "      <td>20151128</td>\n",
       "      <td>1800</td>\n",
       "      <td></td>\n",
       "      <td>LO</td>\n",
       "      <td>22.4N</td>\n",
       "      <td>108.7W</td>\n",
       "      <td>30</td>\n",
       "      <td>1007</td>\n",
       "      <td>...</td>\n",
       "      <td>0</td>\n",
       "      <td>0</td>\n",
       "      <td>0</td>\n",
       "      <td>0</td>\n",
       "      <td>0</td>\n",
       "      <td>0</td>\n",
       "      <td>0</td>\n",
       "      <td>0</td>\n",
       "      <td>0</td>\n",
       "      <td>0</td>\n",
       "    </tr>\n",
       "    <tr>\n",
       "      <th>26134</th>\n",
       "      <td>EP222015</td>\n",
       "      <td>SANDRA</td>\n",
       "      <td>20151129</td>\n",
       "      <td>0</td>\n",
       "      <td></td>\n",
       "      <td>LO</td>\n",
       "      <td>23.1N</td>\n",
       "      <td>108.3W</td>\n",
       "      <td>30</td>\n",
       "      <td>1008</td>\n",
       "      <td>...</td>\n",
       "      <td>0</td>\n",
       "      <td>0</td>\n",
       "      <td>0</td>\n",
       "      <td>0</td>\n",
       "      <td>0</td>\n",
       "      <td>0</td>\n",
       "      <td>0</td>\n",
       "      <td>0</td>\n",
       "      <td>0</td>\n",
       "      <td>0</td>\n",
       "    </tr>\n",
       "    <tr>\n",
       "      <th>26135</th>\n",
       "      <td>EP222015</td>\n",
       "      <td>SANDRA</td>\n",
       "      <td>20151129</td>\n",
       "      <td>600</td>\n",
       "      <td></td>\n",
       "      <td>LO</td>\n",
       "      <td>23.5N</td>\n",
       "      <td>107.9W</td>\n",
       "      <td>25</td>\n",
       "      <td>1009</td>\n",
       "      <td>...</td>\n",
       "      <td>0</td>\n",
       "      <td>0</td>\n",
       "      <td>0</td>\n",
       "      <td>0</td>\n",
       "      <td>0</td>\n",
       "      <td>0</td>\n",
       "      <td>0</td>\n",
       "      <td>0</td>\n",
       "      <td>0</td>\n",
       "      <td>0</td>\n",
       "    </tr>\n",
       "    <tr>\n",
       "      <th>26136</th>\n",
       "      <td>EP222015</td>\n",
       "      <td>SANDRA</td>\n",
       "      <td>20151129</td>\n",
       "      <td>1200</td>\n",
       "      <td></td>\n",
       "      <td>LO</td>\n",
       "      <td>24.2N</td>\n",
       "      <td>107.7W</td>\n",
       "      <td>20</td>\n",
       "      <td>1010</td>\n",
       "      <td>...</td>\n",
       "      <td>0</td>\n",
       "      <td>0</td>\n",
       "      <td>0</td>\n",
       "      <td>0</td>\n",
       "      <td>0</td>\n",
       "      <td>0</td>\n",
       "      <td>0</td>\n",
       "      <td>0</td>\n",
       "      <td>0</td>\n",
       "      <td>0</td>\n",
       "    </tr>\n",
       "  </tbody>\n",
       "</table>\n",
       "<p>26137 rows × 22 columns</p>\n",
       "</div>"
      ],
      "text/plain": [
       "             ID                 Name      Date  Time Event Status Latitude   \n",
       "0      EP011949              UNNAMED  19490611     0           TS    20.2N  \\\n",
       "1      EP011949              UNNAMED  19490611   600           TS    20.2N   \n",
       "2      EP011949              UNNAMED  19490611  1200           TS    20.2N   \n",
       "3      EP011949              UNNAMED  19490611  1800           TS    20.3N   \n",
       "4      EP011949              UNNAMED  19490612     0           TS    20.4N   \n",
       "...         ...                  ...       ...   ...   ...    ...      ...   \n",
       "26132  EP222015               SANDRA  20151128  1200           LO    21.7N   \n",
       "26133  EP222015               SANDRA  20151128  1800           LO    22.4N   \n",
       "26134  EP222015               SANDRA  20151129     0           LO    23.1N   \n",
       "26135  EP222015               SANDRA  20151129   600           LO    23.5N   \n",
       "26136  EP222015               SANDRA  20151129  1200           LO    24.2N   \n",
       "\n",
       "      Longitude  Maximum Wind  Minimum Pressure  ...  Low Wind SW   \n",
       "0        106.3W            45              -999  ...         -999  \\\n",
       "1        106.4W            45              -999  ...         -999   \n",
       "2        106.7W            45              -999  ...         -999   \n",
       "3        107.7W            45              -999  ...         -999   \n",
       "4        108.6W            45              -999  ...         -999   \n",
       "...         ...           ...               ...  ...          ...   \n",
       "26132    109.0W            35              1002  ...            0   \n",
       "26133    108.7W            30              1007  ...            0   \n",
       "26134    108.3W            30              1008  ...            0   \n",
       "26135    107.9W            25              1009  ...            0   \n",
       "26136    107.7W            20              1010  ...            0   \n",
       "\n",
       "       Low Wind NW  Moderate Wind NE  Moderate Wind SE  Moderate Wind SW   \n",
       "0             -999              -999              -999              -999  \\\n",
       "1             -999              -999              -999              -999   \n",
       "2             -999              -999              -999              -999   \n",
       "3             -999              -999              -999              -999   \n",
       "4             -999              -999              -999              -999   \n",
       "...            ...               ...               ...               ...   \n",
       "26132            0                 0                 0                 0   \n",
       "26133            0                 0                 0                 0   \n",
       "26134            0                 0                 0                 0   \n",
       "26135            0                 0                 0                 0   \n",
       "26136            0                 0                 0                 0   \n",
       "\n",
       "       Moderate Wind NW  High Wind NE  High Wind SE  High Wind SW   \n",
       "0                  -999          -999          -999          -999  \\\n",
       "1                  -999          -999          -999          -999   \n",
       "2                  -999          -999          -999          -999   \n",
       "3                  -999          -999          -999          -999   \n",
       "4                  -999          -999          -999          -999   \n",
       "...                 ...           ...           ...           ...   \n",
       "26132                 0             0             0             0   \n",
       "26133                 0             0             0             0   \n",
       "26134                 0             0             0             0   \n",
       "26135                 0             0             0             0   \n",
       "26136                 0             0             0             0   \n",
       "\n",
       "       High Wind NW  \n",
       "0              -999  \n",
       "1              -999  \n",
       "2              -999  \n",
       "3              -999  \n",
       "4              -999  \n",
       "...             ...  \n",
       "26132             0  \n",
       "26133             0  \n",
       "26134             0  \n",
       "26135             0  \n",
       "26136             0  \n",
       "\n",
       "[26137 rows x 22 columns]"
      ]
     },
     "execution_count": 5,
     "metadata": {},
     "output_type": "execute_result"
    }
   ],
   "source": [
    "data = pd.read_csv('pacific.csv')\n",
    "data"
   ]
  },
  {
   "cell_type": "code",
   "execution_count": 6,
   "id": "ca0db0cb",
   "metadata": {},
   "outputs": [],
   "source": [
    "#Checking for null values"
   ]
  },
  {
   "cell_type": "code",
   "execution_count": 7,
   "id": "db668d75",
   "metadata": {},
   "outputs": [
    {
     "data": {
      "text/plain": [
       "ID                  False\n",
       "Name                False\n",
       "Date                False\n",
       "Time                False\n",
       "Event               False\n",
       "Status              False\n",
       "Latitude            False\n",
       "Longitude           False\n",
       "Maximum Wind        False\n",
       "Minimum Pressure    False\n",
       "Low Wind NE         False\n",
       "Low Wind SE         False\n",
       "Low Wind SW         False\n",
       "Low Wind NW         False\n",
       "Moderate Wind NE    False\n",
       "Moderate Wind SE    False\n",
       "Moderate Wind SW    False\n",
       "Moderate Wind NW    False\n",
       "High Wind NE        False\n",
       "High Wind SE        False\n",
       "High Wind SW        False\n",
       "High Wind NW        False\n",
       "dtype: bool"
      ]
     },
     "execution_count": 7,
     "metadata": {},
     "output_type": "execute_result"
    }
   ],
   "source": [
    "data.isnull().any()"
   ]
  },
  {
   "cell_type": "code",
   "execution_count": 8,
   "id": "76380ad4",
   "metadata": {
    "scrolled": true
   },
   "outputs": [
    {
     "name": "stdout",
     "output_type": "stream",
     "text": [
      "<class 'pandas.core.frame.DataFrame'>\n",
      "RangeIndex: 26137 entries, 0 to 26136\n",
      "Data columns (total 22 columns):\n",
      " #   Column            Non-Null Count  Dtype \n",
      "---  ------            --------------  ----- \n",
      " 0   ID                26137 non-null  object\n",
      " 1   Name              26137 non-null  object\n",
      " 2   Date              26137 non-null  int64 \n",
      " 3   Time              26137 non-null  int64 \n",
      " 4   Event             26137 non-null  object\n",
      " 5   Status            26137 non-null  object\n",
      " 6   Latitude          26137 non-null  object\n",
      " 7   Longitude         26137 non-null  object\n",
      " 8   Maximum Wind      26137 non-null  int64 \n",
      " 9   Minimum Pressure  26137 non-null  int64 \n",
      " 10  Low Wind NE       26137 non-null  int64 \n",
      " 11  Low Wind SE       26137 non-null  int64 \n",
      " 12  Low Wind SW       26137 non-null  int64 \n",
      " 13  Low Wind NW       26137 non-null  int64 \n",
      " 14  Moderate Wind NE  26137 non-null  int64 \n",
      " 15  Moderate Wind SE  26137 non-null  int64 \n",
      " 16  Moderate Wind SW  26137 non-null  int64 \n",
      " 17  Moderate Wind NW  26137 non-null  int64 \n",
      " 18  High Wind NE      26137 non-null  int64 \n",
      " 19  High Wind SE      26137 non-null  int64 \n",
      " 20  High Wind SW      26137 non-null  int64 \n",
      " 21  High Wind NW      26137 non-null  int64 \n",
      "dtypes: int64(16), object(6)\n",
      "memory usage: 4.4+ MB\n"
     ]
    }
   ],
   "source": [
    "data.info()"
   ]
  },
  {
   "cell_type": "code",
   "execution_count": 9,
   "id": "9e4a73bc",
   "metadata": {},
   "outputs": [],
   "source": [
    "#copy the dataset"
   ]
  },
  {
   "cell_type": "code",
   "execution_count": 10,
   "id": "c1f004df",
   "metadata": {},
   "outputs": [
    {
     "data": {
      "text/html": [
       "<div>\n",
       "<style scoped>\n",
       "    .dataframe tbody tr th:only-of-type {\n",
       "        vertical-align: middle;\n",
       "    }\n",
       "\n",
       "    .dataframe tbody tr th {\n",
       "        vertical-align: top;\n",
       "    }\n",
       "\n",
       "    .dataframe thead th {\n",
       "        text-align: right;\n",
       "    }\n",
       "</style>\n",
       "<table border=\"1\" class=\"dataframe\">\n",
       "  <thead>\n",
       "    <tr style=\"text-align: right;\">\n",
       "      <th></th>\n",
       "      <th>ID</th>\n",
       "      <th>Name</th>\n",
       "      <th>Date</th>\n",
       "      <th>Time</th>\n",
       "      <th>Event</th>\n",
       "      <th>Status</th>\n",
       "      <th>Latitude</th>\n",
       "      <th>Longitude</th>\n",
       "      <th>Maximum Wind</th>\n",
       "      <th>Minimum Pressure</th>\n",
       "      <th>...</th>\n",
       "      <th>Low Wind SW</th>\n",
       "      <th>Low Wind NW</th>\n",
       "      <th>Moderate Wind NE</th>\n",
       "      <th>Moderate Wind SE</th>\n",
       "      <th>Moderate Wind SW</th>\n",
       "      <th>Moderate Wind NW</th>\n",
       "      <th>High Wind NE</th>\n",
       "      <th>High Wind SE</th>\n",
       "      <th>High Wind SW</th>\n",
       "      <th>High Wind NW</th>\n",
       "    </tr>\n",
       "  </thead>\n",
       "  <tbody>\n",
       "    <tr>\n",
       "      <th>0</th>\n",
       "      <td>EP011949</td>\n",
       "      <td>UNNAMED</td>\n",
       "      <td>19490611</td>\n",
       "      <td>0</td>\n",
       "      <td></td>\n",
       "      <td>TS</td>\n",
       "      <td>20.2N</td>\n",
       "      <td>106.3W</td>\n",
       "      <td>45</td>\n",
       "      <td>-999</td>\n",
       "      <td>...</td>\n",
       "      <td>-999</td>\n",
       "      <td>-999</td>\n",
       "      <td>-999</td>\n",
       "      <td>-999</td>\n",
       "      <td>-999</td>\n",
       "      <td>-999</td>\n",
       "      <td>-999</td>\n",
       "      <td>-999</td>\n",
       "      <td>-999</td>\n",
       "      <td>-999</td>\n",
       "    </tr>\n",
       "    <tr>\n",
       "      <th>1</th>\n",
       "      <td>EP011949</td>\n",
       "      <td>UNNAMED</td>\n",
       "      <td>19490611</td>\n",
       "      <td>600</td>\n",
       "      <td></td>\n",
       "      <td>TS</td>\n",
       "      <td>20.2N</td>\n",
       "      <td>106.4W</td>\n",
       "      <td>45</td>\n",
       "      <td>-999</td>\n",
       "      <td>...</td>\n",
       "      <td>-999</td>\n",
       "      <td>-999</td>\n",
       "      <td>-999</td>\n",
       "      <td>-999</td>\n",
       "      <td>-999</td>\n",
       "      <td>-999</td>\n",
       "      <td>-999</td>\n",
       "      <td>-999</td>\n",
       "      <td>-999</td>\n",
       "      <td>-999</td>\n",
       "    </tr>\n",
       "    <tr>\n",
       "      <th>2</th>\n",
       "      <td>EP011949</td>\n",
       "      <td>UNNAMED</td>\n",
       "      <td>19490611</td>\n",
       "      <td>1200</td>\n",
       "      <td></td>\n",
       "      <td>TS</td>\n",
       "      <td>20.2N</td>\n",
       "      <td>106.7W</td>\n",
       "      <td>45</td>\n",
       "      <td>-999</td>\n",
       "      <td>...</td>\n",
       "      <td>-999</td>\n",
       "      <td>-999</td>\n",
       "      <td>-999</td>\n",
       "      <td>-999</td>\n",
       "      <td>-999</td>\n",
       "      <td>-999</td>\n",
       "      <td>-999</td>\n",
       "      <td>-999</td>\n",
       "      <td>-999</td>\n",
       "      <td>-999</td>\n",
       "    </tr>\n",
       "    <tr>\n",
       "      <th>3</th>\n",
       "      <td>EP011949</td>\n",
       "      <td>UNNAMED</td>\n",
       "      <td>19490611</td>\n",
       "      <td>1800</td>\n",
       "      <td></td>\n",
       "      <td>TS</td>\n",
       "      <td>20.3N</td>\n",
       "      <td>107.7W</td>\n",
       "      <td>45</td>\n",
       "      <td>-999</td>\n",
       "      <td>...</td>\n",
       "      <td>-999</td>\n",
       "      <td>-999</td>\n",
       "      <td>-999</td>\n",
       "      <td>-999</td>\n",
       "      <td>-999</td>\n",
       "      <td>-999</td>\n",
       "      <td>-999</td>\n",
       "      <td>-999</td>\n",
       "      <td>-999</td>\n",
       "      <td>-999</td>\n",
       "    </tr>\n",
       "    <tr>\n",
       "      <th>4</th>\n",
       "      <td>EP011949</td>\n",
       "      <td>UNNAMED</td>\n",
       "      <td>19490612</td>\n",
       "      <td>0</td>\n",
       "      <td></td>\n",
       "      <td>TS</td>\n",
       "      <td>20.4N</td>\n",
       "      <td>108.6W</td>\n",
       "      <td>45</td>\n",
       "      <td>-999</td>\n",
       "      <td>...</td>\n",
       "      <td>-999</td>\n",
       "      <td>-999</td>\n",
       "      <td>-999</td>\n",
       "      <td>-999</td>\n",
       "      <td>-999</td>\n",
       "      <td>-999</td>\n",
       "      <td>-999</td>\n",
       "      <td>-999</td>\n",
       "      <td>-999</td>\n",
       "      <td>-999</td>\n",
       "    </tr>\n",
       "    <tr>\n",
       "      <th>...</th>\n",
       "      <td>...</td>\n",
       "      <td>...</td>\n",
       "      <td>...</td>\n",
       "      <td>...</td>\n",
       "      <td>...</td>\n",
       "      <td>...</td>\n",
       "      <td>...</td>\n",
       "      <td>...</td>\n",
       "      <td>...</td>\n",
       "      <td>...</td>\n",
       "      <td>...</td>\n",
       "      <td>...</td>\n",
       "      <td>...</td>\n",
       "      <td>...</td>\n",
       "      <td>...</td>\n",
       "      <td>...</td>\n",
       "      <td>...</td>\n",
       "      <td>...</td>\n",
       "      <td>...</td>\n",
       "      <td>...</td>\n",
       "      <td>...</td>\n",
       "    </tr>\n",
       "    <tr>\n",
       "      <th>26132</th>\n",
       "      <td>EP222015</td>\n",
       "      <td>SANDRA</td>\n",
       "      <td>20151128</td>\n",
       "      <td>1200</td>\n",
       "      <td></td>\n",
       "      <td>LO</td>\n",
       "      <td>21.7N</td>\n",
       "      <td>109.0W</td>\n",
       "      <td>35</td>\n",
       "      <td>1002</td>\n",
       "      <td>...</td>\n",
       "      <td>0</td>\n",
       "      <td>0</td>\n",
       "      <td>0</td>\n",
       "      <td>0</td>\n",
       "      <td>0</td>\n",
       "      <td>0</td>\n",
       "      <td>0</td>\n",
       "      <td>0</td>\n",
       "      <td>0</td>\n",
       "      <td>0</td>\n",
       "    </tr>\n",
       "    <tr>\n",
       "      <th>26133</th>\n",
       "      <td>EP222015</td>\n",
       "      <td>SANDRA</td>\n",
       "      <td>20151128</td>\n",
       "      <td>1800</td>\n",
       "      <td></td>\n",
       "      <td>LO</td>\n",
       "      <td>22.4N</td>\n",
       "      <td>108.7W</td>\n",
       "      <td>30</td>\n",
       "      <td>1007</td>\n",
       "      <td>...</td>\n",
       "      <td>0</td>\n",
       "      <td>0</td>\n",
       "      <td>0</td>\n",
       "      <td>0</td>\n",
       "      <td>0</td>\n",
       "      <td>0</td>\n",
       "      <td>0</td>\n",
       "      <td>0</td>\n",
       "      <td>0</td>\n",
       "      <td>0</td>\n",
       "    </tr>\n",
       "    <tr>\n",
       "      <th>26134</th>\n",
       "      <td>EP222015</td>\n",
       "      <td>SANDRA</td>\n",
       "      <td>20151129</td>\n",
       "      <td>0</td>\n",
       "      <td></td>\n",
       "      <td>LO</td>\n",
       "      <td>23.1N</td>\n",
       "      <td>108.3W</td>\n",
       "      <td>30</td>\n",
       "      <td>1008</td>\n",
       "      <td>...</td>\n",
       "      <td>0</td>\n",
       "      <td>0</td>\n",
       "      <td>0</td>\n",
       "      <td>0</td>\n",
       "      <td>0</td>\n",
       "      <td>0</td>\n",
       "      <td>0</td>\n",
       "      <td>0</td>\n",
       "      <td>0</td>\n",
       "      <td>0</td>\n",
       "    </tr>\n",
       "    <tr>\n",
       "      <th>26135</th>\n",
       "      <td>EP222015</td>\n",
       "      <td>SANDRA</td>\n",
       "      <td>20151129</td>\n",
       "      <td>600</td>\n",
       "      <td></td>\n",
       "      <td>LO</td>\n",
       "      <td>23.5N</td>\n",
       "      <td>107.9W</td>\n",
       "      <td>25</td>\n",
       "      <td>1009</td>\n",
       "      <td>...</td>\n",
       "      <td>0</td>\n",
       "      <td>0</td>\n",
       "      <td>0</td>\n",
       "      <td>0</td>\n",
       "      <td>0</td>\n",
       "      <td>0</td>\n",
       "      <td>0</td>\n",
       "      <td>0</td>\n",
       "      <td>0</td>\n",
       "      <td>0</td>\n",
       "    </tr>\n",
       "    <tr>\n",
       "      <th>26136</th>\n",
       "      <td>EP222015</td>\n",
       "      <td>SANDRA</td>\n",
       "      <td>20151129</td>\n",
       "      <td>1200</td>\n",
       "      <td></td>\n",
       "      <td>LO</td>\n",
       "      <td>24.2N</td>\n",
       "      <td>107.7W</td>\n",
       "      <td>20</td>\n",
       "      <td>1010</td>\n",
       "      <td>...</td>\n",
       "      <td>0</td>\n",
       "      <td>0</td>\n",
       "      <td>0</td>\n",
       "      <td>0</td>\n",
       "      <td>0</td>\n",
       "      <td>0</td>\n",
       "      <td>0</td>\n",
       "      <td>0</td>\n",
       "      <td>0</td>\n",
       "      <td>0</td>\n",
       "    </tr>\n",
       "  </tbody>\n",
       "</table>\n",
       "<p>26137 rows × 22 columns</p>\n",
       "</div>"
      ],
      "text/plain": [
       "             ID                 Name      Date  Time Event Status Latitude   \n",
       "0      EP011949              UNNAMED  19490611     0           TS    20.2N  \\\n",
       "1      EP011949              UNNAMED  19490611   600           TS    20.2N   \n",
       "2      EP011949              UNNAMED  19490611  1200           TS    20.2N   \n",
       "3      EP011949              UNNAMED  19490611  1800           TS    20.3N   \n",
       "4      EP011949              UNNAMED  19490612     0           TS    20.4N   \n",
       "...         ...                  ...       ...   ...   ...    ...      ...   \n",
       "26132  EP222015               SANDRA  20151128  1200           LO    21.7N   \n",
       "26133  EP222015               SANDRA  20151128  1800           LO    22.4N   \n",
       "26134  EP222015               SANDRA  20151129     0           LO    23.1N   \n",
       "26135  EP222015               SANDRA  20151129   600           LO    23.5N   \n",
       "26136  EP222015               SANDRA  20151129  1200           LO    24.2N   \n",
       "\n",
       "      Longitude  Maximum Wind  Minimum Pressure  ...  Low Wind SW   \n",
       "0        106.3W            45              -999  ...         -999  \\\n",
       "1        106.4W            45              -999  ...         -999   \n",
       "2        106.7W            45              -999  ...         -999   \n",
       "3        107.7W            45              -999  ...         -999   \n",
       "4        108.6W            45              -999  ...         -999   \n",
       "...         ...           ...               ...  ...          ...   \n",
       "26132    109.0W            35              1002  ...            0   \n",
       "26133    108.7W            30              1007  ...            0   \n",
       "26134    108.3W            30              1008  ...            0   \n",
       "26135    107.9W            25              1009  ...            0   \n",
       "26136    107.7W            20              1010  ...            0   \n",
       "\n",
       "       Low Wind NW  Moderate Wind NE  Moderate Wind SE  Moderate Wind SW   \n",
       "0             -999              -999              -999              -999  \\\n",
       "1             -999              -999              -999              -999   \n",
       "2             -999              -999              -999              -999   \n",
       "3             -999              -999              -999              -999   \n",
       "4             -999              -999              -999              -999   \n",
       "...            ...               ...               ...               ...   \n",
       "26132            0                 0                 0                 0   \n",
       "26133            0                 0                 0                 0   \n",
       "26134            0                 0                 0                 0   \n",
       "26135            0                 0                 0                 0   \n",
       "26136            0                 0                 0                 0   \n",
       "\n",
       "       Moderate Wind NW  High Wind NE  High Wind SE  High Wind SW   \n",
       "0                  -999          -999          -999          -999  \\\n",
       "1                  -999          -999          -999          -999   \n",
       "2                  -999          -999          -999          -999   \n",
       "3                  -999          -999          -999          -999   \n",
       "4                  -999          -999          -999          -999   \n",
       "...                 ...           ...           ...           ...   \n",
       "26132                 0             0             0             0   \n",
       "26133                 0             0             0             0   \n",
       "26134                 0             0             0             0   \n",
       "26135                 0             0             0             0   \n",
       "26136                 0             0             0             0   \n",
       "\n",
       "       High Wind NW  \n",
       "0              -999  \n",
       "1              -999  \n",
       "2              -999  \n",
       "3              -999  \n",
       "4              -999  \n",
       "...             ...  \n",
       "26132             0  \n",
       "26133             0  \n",
       "26134             0  \n",
       "26135             0  \n",
       "26136             0  \n",
       "\n",
       "[26137 rows x 22 columns]"
      ]
     },
     "execution_count": 10,
     "metadata": {},
     "output_type": "execute_result"
    }
   ],
   "source": [
    "pred_columns = data[:]\n",
    "pred_columns"
   ]
  },
  {
   "cell_type": "code",
   "execution_count": 11,
   "id": "79438510",
   "metadata": {},
   "outputs": [],
   "source": [
    "#Drop column \"status, event,latitude,longitude,id,name\" from data "
   ]
  },
  {
   "cell_type": "code",
   "execution_count": 12,
   "id": "c68f030d",
   "metadata": {},
   "outputs": [],
   "source": [
    "pred_columns.drop(['Status'], axis=1, inplace=True)\n",
    "pred_columns.drop(['Event'], axis=1, inplace=True)\n",
    "pred_columns.drop(['Latitude'], axis=1, inplace=True)\n",
    "pred_columns.drop(['Longitude'], axis=1, inplace=True)\n",
    "pred_columns.drop(['ID'], axis=1, inplace=True)\n",
    "pred_columns.drop(['Name'], axis=1, inplace=True)"
   ]
  },
  {
   "cell_type": "code",
   "execution_count": 13,
   "id": "0524e3ba",
   "metadata": {
    "scrolled": true
   },
   "outputs": [
    {
     "data": {
      "text/html": [
       "<div>\n",
       "<style scoped>\n",
       "    .dataframe tbody tr th:only-of-type {\n",
       "        vertical-align: middle;\n",
       "    }\n",
       "\n",
       "    .dataframe tbody tr th {\n",
       "        vertical-align: top;\n",
       "    }\n",
       "\n",
       "    .dataframe thead th {\n",
       "        text-align: right;\n",
       "    }\n",
       "</style>\n",
       "<table border=\"1\" class=\"dataframe\">\n",
       "  <thead>\n",
       "    <tr style=\"text-align: right;\">\n",
       "      <th></th>\n",
       "      <th>Date</th>\n",
       "      <th>Time</th>\n",
       "      <th>Maximum Wind</th>\n",
       "      <th>Minimum Pressure</th>\n",
       "      <th>Low Wind NE</th>\n",
       "      <th>Low Wind SE</th>\n",
       "      <th>Low Wind SW</th>\n",
       "      <th>Low Wind NW</th>\n",
       "      <th>Moderate Wind NE</th>\n",
       "      <th>Moderate Wind SE</th>\n",
       "      <th>Moderate Wind SW</th>\n",
       "      <th>Moderate Wind NW</th>\n",
       "      <th>High Wind NE</th>\n",
       "      <th>High Wind SE</th>\n",
       "      <th>High Wind SW</th>\n",
       "      <th>High Wind NW</th>\n",
       "    </tr>\n",
       "  </thead>\n",
       "  <tbody>\n",
       "    <tr>\n",
       "      <th>0</th>\n",
       "      <td>19490611</td>\n",
       "      <td>0</td>\n",
       "      <td>45</td>\n",
       "      <td>-999</td>\n",
       "      <td>-999</td>\n",
       "      <td>-999</td>\n",
       "      <td>-999</td>\n",
       "      <td>-999</td>\n",
       "      <td>-999</td>\n",
       "      <td>-999</td>\n",
       "      <td>-999</td>\n",
       "      <td>-999</td>\n",
       "      <td>-999</td>\n",
       "      <td>-999</td>\n",
       "      <td>-999</td>\n",
       "      <td>-999</td>\n",
       "    </tr>\n",
       "    <tr>\n",
       "      <th>1</th>\n",
       "      <td>19490611</td>\n",
       "      <td>600</td>\n",
       "      <td>45</td>\n",
       "      <td>-999</td>\n",
       "      <td>-999</td>\n",
       "      <td>-999</td>\n",
       "      <td>-999</td>\n",
       "      <td>-999</td>\n",
       "      <td>-999</td>\n",
       "      <td>-999</td>\n",
       "      <td>-999</td>\n",
       "      <td>-999</td>\n",
       "      <td>-999</td>\n",
       "      <td>-999</td>\n",
       "      <td>-999</td>\n",
       "      <td>-999</td>\n",
       "    </tr>\n",
       "    <tr>\n",
       "      <th>2</th>\n",
       "      <td>19490611</td>\n",
       "      <td>1200</td>\n",
       "      <td>45</td>\n",
       "      <td>-999</td>\n",
       "      <td>-999</td>\n",
       "      <td>-999</td>\n",
       "      <td>-999</td>\n",
       "      <td>-999</td>\n",
       "      <td>-999</td>\n",
       "      <td>-999</td>\n",
       "      <td>-999</td>\n",
       "      <td>-999</td>\n",
       "      <td>-999</td>\n",
       "      <td>-999</td>\n",
       "      <td>-999</td>\n",
       "      <td>-999</td>\n",
       "    </tr>\n",
       "    <tr>\n",
       "      <th>3</th>\n",
       "      <td>19490611</td>\n",
       "      <td>1800</td>\n",
       "      <td>45</td>\n",
       "      <td>-999</td>\n",
       "      <td>-999</td>\n",
       "      <td>-999</td>\n",
       "      <td>-999</td>\n",
       "      <td>-999</td>\n",
       "      <td>-999</td>\n",
       "      <td>-999</td>\n",
       "      <td>-999</td>\n",
       "      <td>-999</td>\n",
       "      <td>-999</td>\n",
       "      <td>-999</td>\n",
       "      <td>-999</td>\n",
       "      <td>-999</td>\n",
       "    </tr>\n",
       "    <tr>\n",
       "      <th>4</th>\n",
       "      <td>19490612</td>\n",
       "      <td>0</td>\n",
       "      <td>45</td>\n",
       "      <td>-999</td>\n",
       "      <td>-999</td>\n",
       "      <td>-999</td>\n",
       "      <td>-999</td>\n",
       "      <td>-999</td>\n",
       "      <td>-999</td>\n",
       "      <td>-999</td>\n",
       "      <td>-999</td>\n",
       "      <td>-999</td>\n",
       "      <td>-999</td>\n",
       "      <td>-999</td>\n",
       "      <td>-999</td>\n",
       "      <td>-999</td>\n",
       "    </tr>\n",
       "    <tr>\n",
       "      <th>...</th>\n",
       "      <td>...</td>\n",
       "      <td>...</td>\n",
       "      <td>...</td>\n",
       "      <td>...</td>\n",
       "      <td>...</td>\n",
       "      <td>...</td>\n",
       "      <td>...</td>\n",
       "      <td>...</td>\n",
       "      <td>...</td>\n",
       "      <td>...</td>\n",
       "      <td>...</td>\n",
       "      <td>...</td>\n",
       "      <td>...</td>\n",
       "      <td>...</td>\n",
       "      <td>...</td>\n",
       "      <td>...</td>\n",
       "    </tr>\n",
       "    <tr>\n",
       "      <th>26132</th>\n",
       "      <td>20151128</td>\n",
       "      <td>1200</td>\n",
       "      <td>35</td>\n",
       "      <td>1002</td>\n",
       "      <td>60</td>\n",
       "      <td>0</td>\n",
       "      <td>0</td>\n",
       "      <td>0</td>\n",
       "      <td>0</td>\n",
       "      <td>0</td>\n",
       "      <td>0</td>\n",
       "      <td>0</td>\n",
       "      <td>0</td>\n",
       "      <td>0</td>\n",
       "      <td>0</td>\n",
       "      <td>0</td>\n",
       "    </tr>\n",
       "    <tr>\n",
       "      <th>26133</th>\n",
       "      <td>20151128</td>\n",
       "      <td>1800</td>\n",
       "      <td>30</td>\n",
       "      <td>1007</td>\n",
       "      <td>0</td>\n",
       "      <td>0</td>\n",
       "      <td>0</td>\n",
       "      <td>0</td>\n",
       "      <td>0</td>\n",
       "      <td>0</td>\n",
       "      <td>0</td>\n",
       "      <td>0</td>\n",
       "      <td>0</td>\n",
       "      <td>0</td>\n",
       "      <td>0</td>\n",
       "      <td>0</td>\n",
       "    </tr>\n",
       "    <tr>\n",
       "      <th>26134</th>\n",
       "      <td>20151129</td>\n",
       "      <td>0</td>\n",
       "      <td>30</td>\n",
       "      <td>1008</td>\n",
       "      <td>0</td>\n",
       "      <td>0</td>\n",
       "      <td>0</td>\n",
       "      <td>0</td>\n",
       "      <td>0</td>\n",
       "      <td>0</td>\n",
       "      <td>0</td>\n",
       "      <td>0</td>\n",
       "      <td>0</td>\n",
       "      <td>0</td>\n",
       "      <td>0</td>\n",
       "      <td>0</td>\n",
       "    </tr>\n",
       "    <tr>\n",
       "      <th>26135</th>\n",
       "      <td>20151129</td>\n",
       "      <td>600</td>\n",
       "      <td>25</td>\n",
       "      <td>1009</td>\n",
       "      <td>0</td>\n",
       "      <td>0</td>\n",
       "      <td>0</td>\n",
       "      <td>0</td>\n",
       "      <td>0</td>\n",
       "      <td>0</td>\n",
       "      <td>0</td>\n",
       "      <td>0</td>\n",
       "      <td>0</td>\n",
       "      <td>0</td>\n",
       "      <td>0</td>\n",
       "      <td>0</td>\n",
       "    </tr>\n",
       "    <tr>\n",
       "      <th>26136</th>\n",
       "      <td>20151129</td>\n",
       "      <td>1200</td>\n",
       "      <td>20</td>\n",
       "      <td>1010</td>\n",
       "      <td>0</td>\n",
       "      <td>0</td>\n",
       "      <td>0</td>\n",
       "      <td>0</td>\n",
       "      <td>0</td>\n",
       "      <td>0</td>\n",
       "      <td>0</td>\n",
       "      <td>0</td>\n",
       "      <td>0</td>\n",
       "      <td>0</td>\n",
       "      <td>0</td>\n",
       "      <td>0</td>\n",
       "    </tr>\n",
       "  </tbody>\n",
       "</table>\n",
       "<p>26137 rows × 16 columns</p>\n",
       "</div>"
      ],
      "text/plain": [
       "           Date  Time  Maximum Wind  Minimum Pressure  Low Wind NE   \n",
       "0      19490611     0            45              -999         -999  \\\n",
       "1      19490611   600            45              -999         -999   \n",
       "2      19490611  1200            45              -999         -999   \n",
       "3      19490611  1800            45              -999         -999   \n",
       "4      19490612     0            45              -999         -999   \n",
       "...         ...   ...           ...               ...          ...   \n",
       "26132  20151128  1200            35              1002           60   \n",
       "26133  20151128  1800            30              1007            0   \n",
       "26134  20151129     0            30              1008            0   \n",
       "26135  20151129   600            25              1009            0   \n",
       "26136  20151129  1200            20              1010            0   \n",
       "\n",
       "       Low Wind SE  Low Wind SW  Low Wind NW  Moderate Wind NE   \n",
       "0             -999         -999         -999              -999  \\\n",
       "1             -999         -999         -999              -999   \n",
       "2             -999         -999         -999              -999   \n",
       "3             -999         -999         -999              -999   \n",
       "4             -999         -999         -999              -999   \n",
       "...            ...          ...          ...               ...   \n",
       "26132            0            0            0                 0   \n",
       "26133            0            0            0                 0   \n",
       "26134            0            0            0                 0   \n",
       "26135            0            0            0                 0   \n",
       "26136            0            0            0                 0   \n",
       "\n",
       "       Moderate Wind SE  Moderate Wind SW  Moderate Wind NW  High Wind NE   \n",
       "0                  -999              -999              -999          -999  \\\n",
       "1                  -999              -999              -999          -999   \n",
       "2                  -999              -999              -999          -999   \n",
       "3                  -999              -999              -999          -999   \n",
       "4                  -999              -999              -999          -999   \n",
       "...                 ...               ...               ...           ...   \n",
       "26132                 0                 0                 0             0   \n",
       "26133                 0                 0                 0             0   \n",
       "26134                 0                 0                 0             0   \n",
       "26135                 0                 0                 0             0   \n",
       "26136                 0                 0                 0             0   \n",
       "\n",
       "       High Wind SE  High Wind SW  High Wind NW  \n",
       "0              -999          -999          -999  \n",
       "1              -999          -999          -999  \n",
       "2              -999          -999          -999  \n",
       "3              -999          -999          -999  \n",
       "4              -999          -999          -999  \n",
       "...             ...           ...           ...  \n",
       "26132             0             0             0  \n",
       "26133             0             0             0  \n",
       "26134             0             0             0  \n",
       "26135             0             0             0  \n",
       "26136             0             0             0  \n",
       "\n",
       "[26137 rows x 16 columns]"
      ]
     },
     "execution_count": 13,
     "metadata": {},
     "output_type": "execute_result"
    }
   ],
   "source": [
    "pred_columns"
   ]
  },
  {
   "cell_type": "code",
   "execution_count": 14,
   "id": "7012b5fb",
   "metadata": {},
   "outputs": [],
   "source": [
    "# Columns which will be used for amalysis"
   ]
  },
  {
   "cell_type": "code",
   "execution_count": 15,
   "id": "d49b86a2",
   "metadata": {},
   "outputs": [
    {
     "data": {
      "text/plain": [
       "Index(['Date', 'Time', 'Maximum Wind', 'Minimum Pressure', 'Low Wind NE',\n",
       "       'Low Wind SE', 'Low Wind SW', 'Low Wind NW', 'Moderate Wind NE',\n",
       "       'Moderate Wind SE', 'Moderate Wind SW', 'Moderate Wind NW',\n",
       "       'High Wind NE', 'High Wind SE', 'High Wind SW', 'High Wind NW'],\n",
       "      dtype='object')"
      ]
     },
     "execution_count": 15,
     "metadata": {},
     "output_type": "execute_result"
    }
   ],
   "source": [
    "prediction_var = pred_columns.columns\n",
    "prediction_var"
   ]
  },
  {
   "cell_type": "code",
   "execution_count": 16,
   "id": "aa53f3d3",
   "metadata": {},
   "outputs": [],
   "source": [
    "#Train : Test split is 70:30 choosing 70% training and 30% test"
   ]
  },
  {
   "cell_type": "code",
   "execution_count": 17,
   "id": "114b7243",
   "metadata": {},
   "outputs": [],
   "source": [
    "train,test = train_test_split(data, test_size=0.3)"
   ]
  },
  {
   "cell_type": "code",
   "execution_count": 18,
   "id": "2e7eba24",
   "metadata": {},
   "outputs": [
    {
     "data": {
      "text/plain": [
       "(18295, 22)"
      ]
     },
     "execution_count": 18,
     "metadata": {},
     "output_type": "execute_result"
    }
   ],
   "source": [
    "train.shape"
   ]
  },
  {
   "cell_type": "code",
   "execution_count": 19,
   "id": "e461e73a",
   "metadata": {},
   "outputs": [
    {
     "data": {
      "text/plain": [
       "(7842, 22)"
      ]
     },
     "execution_count": 19,
     "metadata": {},
     "output_type": "execute_result"
    }
   ],
   "source": [
    "test.shape"
   ]
  },
  {
   "cell_type": "code",
   "execution_count": 20,
   "id": "bf560c59",
   "metadata": {},
   "outputs": [
    {
     "name": "stdout",
     "output_type": "stream",
     "text": [
      "['ID', 'Name', 'Date', 'Time', 'Event', 'Status', 'Latitude', 'Longitude', 'Maximum Wind', 'Minimum Pressure', 'Low Wind NE', 'Low Wind SE', 'Low Wind SW', 'Low Wind NW', 'Moderate Wind NE', 'Moderate Wind SE', 'Moderate Wind SW', 'Moderate Wind NW', 'High Wind NE', 'High Wind SE', 'High Wind SW', 'High Wind NW']\n"
     ]
    }
   ],
   "source": [
    "train_X = train[prediction_var]\n",
    "train_y = train['Status']\n",
    "print(list(train.columns))"
   ]
  },
  {
   "cell_type": "code",
   "execution_count": 21,
   "id": "39f4f713",
   "metadata": {},
   "outputs": [
    {
     "name": "stdout",
     "output_type": "stream",
     "text": [
      "['ID', 'Name', 'Date', 'Time', 'Event', 'Status', 'Latitude', 'Longitude', 'Maximum Wind', 'Minimum Pressure', 'Low Wind NE', 'Low Wind SE', 'Low Wind SW', 'Low Wind NW', 'Moderate Wind NE', 'Moderate Wind SE', 'Moderate Wind SW', 'Moderate Wind NW', 'High Wind NE', 'High Wind SE', 'High Wind SW', 'High Wind NW']\n"
     ]
    }
   ],
   "source": [
    "test_X = test[prediction_var]\n",
    "test_y = test['Status']\n",
    "print(list(test.columns))"
   ]
  },
  {
   "cell_type": "markdown",
   "id": "4c5baffc",
   "metadata": {},
   "source": [
    "# Checking through decision tree"
   ]
  },
  {
   "cell_type": "code",
   "execution_count": 22,
   "id": "e94b4413",
   "metadata": {},
   "outputs": [
    {
     "data": {
      "text/plain": [
       "array([' TD', ' HU', ' TS', ..., ' TD', ' EX', ' TD'], dtype=object)"
      ]
     },
     "execution_count": 22,
     "metadata": {},
     "output_type": "execute_result"
    }
   ],
   "source": [
    "model = tree.DecisionTreeClassifier()\n",
    "model.fit(train_X, train_y)\n",
    "prediction = model.predict(test_X)\n",
    "prediction"
   ]
  },
  {
   "cell_type": "code",
   "execution_count": 23,
   "id": "ecdbc3aa",
   "metadata": {},
   "outputs": [
    {
     "data": {
      "text/html": [
       "<div>\n",
       "<style scoped>\n",
       "    .dataframe tbody tr th:only-of-type {\n",
       "        vertical-align: middle;\n",
       "    }\n",
       "\n",
       "    .dataframe tbody tr th {\n",
       "        vertical-align: top;\n",
       "    }\n",
       "\n",
       "    .dataframe thead th {\n",
       "        text-align: right;\n",
       "    }\n",
       "</style>\n",
       "<table border=\"1\" class=\"dataframe\">\n",
       "  <thead>\n",
       "    <tr style=\"text-align: right;\">\n",
       "      <th></th>\n",
       "      <th>0</th>\n",
       "    </tr>\n",
       "    <tr>\n",
       "      <th>Status</th>\n",
       "      <th></th>\n",
       "    </tr>\n",
       "  </thead>\n",
       "  <tbody>\n",
       "    <tr>\n",
       "      <th>TD</th>\n",
       "      <td>TD</td>\n",
       "    </tr>\n",
       "    <tr>\n",
       "      <th>HU</th>\n",
       "      <td>HU</td>\n",
       "    </tr>\n",
       "    <tr>\n",
       "      <th>TS</th>\n",
       "      <td>TS</td>\n",
       "    </tr>\n",
       "    <tr>\n",
       "      <th>TS</th>\n",
       "      <td>TS</td>\n",
       "    </tr>\n",
       "    <tr>\n",
       "      <th>HU</th>\n",
       "      <td>HU</td>\n",
       "    </tr>\n",
       "    <tr>\n",
       "      <th>...</th>\n",
       "      <td>...</td>\n",
       "    </tr>\n",
       "    <tr>\n",
       "      <th>TD</th>\n",
       "      <td>TD</td>\n",
       "    </tr>\n",
       "    <tr>\n",
       "      <th>HU</th>\n",
       "      <td>HU</td>\n",
       "    </tr>\n",
       "    <tr>\n",
       "      <th>TD</th>\n",
       "      <td>TD</td>\n",
       "    </tr>\n",
       "    <tr>\n",
       "      <th>TD</th>\n",
       "      <td>EX</td>\n",
       "    </tr>\n",
       "    <tr>\n",
       "      <th>TD</th>\n",
       "      <td>TD</td>\n",
       "    </tr>\n",
       "  </tbody>\n",
       "</table>\n",
       "<p>7842 rows × 1 columns</p>\n",
       "</div>"
      ],
      "text/plain": [
       "          0\n",
       "Status     \n",
       " TD      TD\n",
       " HU      HU\n",
       " TS      TS\n",
       " TS      TS\n",
       " HU      HU\n",
       "...     ...\n",
       " TD      TD\n",
       " HU      HU\n",
       " TD      TD\n",
       " TD      EX\n",
       " TD      TD\n",
       "\n",
       "[7842 rows x 1 columns]"
      ]
     },
     "execution_count": 23,
     "metadata": {},
     "output_type": "execute_result"
    }
   ],
   "source": [
    "df = pd.DataFrame(prediction, test_y)\n",
    "df"
   ]
  },
  {
   "cell_type": "code",
   "execution_count": 24,
   "id": "64fd5675",
   "metadata": {},
   "outputs": [
    {
     "data": {
      "text/plain": [
       "0.9650599336903851"
      ]
     },
     "execution_count": 24,
     "metadata": {},
     "output_type": "execute_result"
    }
   ],
   "source": [
    "metrics.accuracy_score(test_y, prediction)"
   ]
  },
  {
   "cell_type": "markdown",
   "id": "19ec9a6c",
   "metadata": {},
   "source": [
    "# Checking through Logistic regression"
   ]
  },
  {
   "cell_type": "code",
   "execution_count": 25,
   "id": "61992401",
   "metadata": {},
   "outputs": [
    {
     "data": {
      "text/html": [
       "<style>#sk-container-id-1 {color: black;}#sk-container-id-1 pre{padding: 0;}#sk-container-id-1 div.sk-toggleable {background-color: white;}#sk-container-id-1 label.sk-toggleable__label {cursor: pointer;display: block;width: 100%;margin-bottom: 0;padding: 0.3em;box-sizing: border-box;text-align: center;}#sk-container-id-1 label.sk-toggleable__label-arrow:before {content: \"▸\";float: left;margin-right: 0.25em;color: #696969;}#sk-container-id-1 label.sk-toggleable__label-arrow:hover:before {color: black;}#sk-container-id-1 div.sk-estimator:hover label.sk-toggleable__label-arrow:before {color: black;}#sk-container-id-1 div.sk-toggleable__content {max-height: 0;max-width: 0;overflow: hidden;text-align: left;background-color: #f0f8ff;}#sk-container-id-1 div.sk-toggleable__content pre {margin: 0.2em;color: black;border-radius: 0.25em;background-color: #f0f8ff;}#sk-container-id-1 input.sk-toggleable__control:checked~div.sk-toggleable__content {max-height: 200px;max-width: 100%;overflow: auto;}#sk-container-id-1 input.sk-toggleable__control:checked~label.sk-toggleable__label-arrow:before {content: \"▾\";}#sk-container-id-1 div.sk-estimator input.sk-toggleable__control:checked~label.sk-toggleable__label {background-color: #d4ebff;}#sk-container-id-1 div.sk-label input.sk-toggleable__control:checked~label.sk-toggleable__label {background-color: #d4ebff;}#sk-container-id-1 input.sk-hidden--visually {border: 0;clip: rect(1px 1px 1px 1px);clip: rect(1px, 1px, 1px, 1px);height: 1px;margin: -1px;overflow: hidden;padding: 0;position: absolute;width: 1px;}#sk-container-id-1 div.sk-estimator {font-family: monospace;background-color: #f0f8ff;border: 1px dotted black;border-radius: 0.25em;box-sizing: border-box;margin-bottom: 0.5em;}#sk-container-id-1 div.sk-estimator:hover {background-color: #d4ebff;}#sk-container-id-1 div.sk-parallel-item::after {content: \"\";width: 100%;border-bottom: 1px solid gray;flex-grow: 1;}#sk-container-id-1 div.sk-label:hover label.sk-toggleable__label {background-color: #d4ebff;}#sk-container-id-1 div.sk-serial::before {content: \"\";position: absolute;border-left: 1px solid gray;box-sizing: border-box;top: 0;bottom: 0;left: 50%;z-index: 0;}#sk-container-id-1 div.sk-serial {display: flex;flex-direction: column;align-items: center;background-color: white;padding-right: 0.2em;padding-left: 0.2em;position: relative;}#sk-container-id-1 div.sk-item {position: relative;z-index: 1;}#sk-container-id-1 div.sk-parallel {display: flex;align-items: stretch;justify-content: center;background-color: white;position: relative;}#sk-container-id-1 div.sk-item::before, #sk-container-id-1 div.sk-parallel-item::before {content: \"\";position: absolute;border-left: 1px solid gray;box-sizing: border-box;top: 0;bottom: 0;left: 50%;z-index: -1;}#sk-container-id-1 div.sk-parallel-item {display: flex;flex-direction: column;z-index: 1;position: relative;background-color: white;}#sk-container-id-1 div.sk-parallel-item:first-child::after {align-self: flex-end;width: 50%;}#sk-container-id-1 div.sk-parallel-item:last-child::after {align-self: flex-start;width: 50%;}#sk-container-id-1 div.sk-parallel-item:only-child::after {width: 0;}#sk-container-id-1 div.sk-dashed-wrapped {border: 1px dashed gray;margin: 0 0.4em 0.5em 0.4em;box-sizing: border-box;padding-bottom: 0.4em;background-color: white;}#sk-container-id-1 div.sk-label label {font-family: monospace;font-weight: bold;display: inline-block;line-height: 1.2em;}#sk-container-id-1 div.sk-label-container {text-align: center;}#sk-container-id-1 div.sk-container {/* jupyter's `normalize.less` sets `[hidden] { display: none; }` but bootstrap.min.css set `[hidden] { display: none !important; }` so we also need the `!important` here to be able to override the default hidden behavior on the sphinx rendered scikit-learn.org. See: https://github.com/scikit-learn/scikit-learn/issues/21755 */display: inline-block !important;position: relative;}#sk-container-id-1 div.sk-text-repr-fallback {display: none;}</style><div id=\"sk-container-id-1\" class=\"sk-top-container\"><div class=\"sk-text-repr-fallback\"><pre>LogisticRegression()</pre><b>In a Jupyter environment, please rerun this cell to show the HTML representation or trust the notebook. <br />On GitHub, the HTML representation is unable to render, please try loading this page with nbviewer.org.</b></div><div class=\"sk-container\" hidden><div class=\"sk-item\"><div class=\"sk-estimator sk-toggleable\"><input class=\"sk-toggleable__control sk-hidden--visually\" id=\"sk-estimator-id-1\" type=\"checkbox\" checked><label for=\"sk-estimator-id-1\" class=\"sk-toggleable__label sk-toggleable__label-arrow\">LogisticRegression</label><div class=\"sk-toggleable__content\"><pre>LogisticRegression()</pre></div></div></div></div></div>"
      ],
      "text/plain": [
       "LogisticRegression()"
      ]
     },
     "execution_count": 25,
     "metadata": {},
     "output_type": "execute_result"
    }
   ],
   "source": [
    "model = LogisticRegression()\n",
    "model.fit(train_X, train_y)"
   ]
  },
  {
   "cell_type": "code",
   "execution_count": 26,
   "id": "384fec4b",
   "metadata": {},
   "outputs": [
    {
     "data": {
      "text/plain": [
       "array([' TS', ' TS', ' TS', ..., ' TS', ' TS', ' TS'], dtype=object)"
      ]
     },
     "execution_count": 26,
     "metadata": {},
     "output_type": "execute_result"
    }
   ],
   "source": [
    "prediction = model.predict(test_X)\n",
    "prediction"
   ]
  },
  {
   "cell_type": "code",
   "execution_count": 27,
   "id": "c02f69cd",
   "metadata": {
    "scrolled": true
   },
   "outputs": [
    {
     "data": {
      "text/plain": [
       "0.38102524866105586"
      ]
     },
     "execution_count": 27,
     "metadata": {},
     "output_type": "execute_result"
    }
   ],
   "source": [
    "metrics.accuracy_score(test_y, prediction)"
   ]
  },
  {
   "cell_type": "markdown",
   "id": "6c70345a",
   "metadata": {},
   "source": [
    "# Checking through Random forest"
   ]
  },
  {
   "cell_type": "code",
   "execution_count": 28,
   "id": "cb8bd9c0",
   "metadata": {},
   "outputs": [
    {
     "data": {
      "text/plain": [
       "array([' TD', ' HU', ' TS', ..., ' TD', ' EX', ' TD'], dtype=object)"
      ]
     },
     "execution_count": 28,
     "metadata": {},
     "output_type": "execute_result"
    }
   ],
   "source": [
    "rf = RandomForestClassifier(n_estimators=98, criterion='entropy')\n",
    "rf.fit(train_X, train_y)\n",
    "prediction = rf.predict(test_X)\n",
    "prediction"
   ]
  },
  {
   "cell_type": "code",
   "execution_count": 29,
   "id": "731cf054",
   "metadata": {},
   "outputs": [
    {
     "data": {
      "text/plain": [
       "0.9577913797500638"
      ]
     },
     "execution_count": 29,
     "metadata": {},
     "output_type": "execute_result"
    }
   ],
   "source": [
    "metrics.accuracy_score(test_y, prediction)"
   ]
  },
  {
   "cell_type": "code",
   "execution_count": 30,
   "id": "c08d0b87",
   "metadata": {},
   "outputs": [],
   "source": [
    "#GridSearch"
   ]
  },
  {
   "cell_type": "code",
   "execution_count": 31,
   "id": "d9e2763f",
   "metadata": {},
   "outputs": [],
   "source": [
    "tuned_parameters = [{'n_estimators' : range(1,100)}]"
   ]
  },
  {
   "cell_type": "code",
   "execution_count": 32,
   "id": "94c44c3f",
   "metadata": {},
   "outputs": [],
   "source": [
    "model = GridSearchCV(RandomForestClassifier(), tuned_parameters)\n",
    "model.fit(train_X, train_y)\n",
    "prediction = model.predict(test_X)"
   ]
  },
  {
   "cell_type": "code",
   "execution_count": 33,
   "id": "b92ca728",
   "metadata": {},
   "outputs": [
    {
     "data": {
      "text/plain": [
       "{'n_estimators': 41}"
      ]
     },
     "execution_count": 33,
     "metadata": {},
     "output_type": "execute_result"
    }
   ],
   "source": [
    "model.best_params_"
   ]
  },
  {
   "cell_type": "code",
   "execution_count": 34,
   "id": "dacd04cf",
   "metadata": {},
   "outputs": [
    {
     "data": {
      "text/plain": [
       "array([' TD', ' HU', ' TS', ..., ' TD', ' EX', ' TD'], dtype=object)"
      ]
     },
     "execution_count": 34,
     "metadata": {},
     "output_type": "execute_result"
    }
   ],
   "source": [
    "rf = RandomForestClassifier(n_estimators=69, criterion='entropy')\n",
    "rf.fit(train_X, train_y)\n",
    "prediction = rf.predict(test_X)\n",
    "prediction"
   ]
  },
  {
   "cell_type": "code",
   "execution_count": 35,
   "id": "d2b47925",
   "metadata": {},
   "outputs": [
    {
     "data": {
      "text/plain": [
       "0.958301453710788"
      ]
     },
     "execution_count": 35,
     "metadata": {},
     "output_type": "execute_result"
    }
   ],
   "source": [
    "metrics.accuracy_score(test_y, prediction)"
   ]
  },
  {
   "cell_type": "markdown",
   "id": "6e2599ef",
   "metadata": {},
   "source": [
    "# Inference from Different Algorithm"
   ]
  },
  {
   "cell_type": "code",
   "execution_count": 36,
   "id": "7fefa9bf",
   "metadata": {},
   "outputs": [],
   "source": [
    "#a) Heighest accuracy is obtained using decission tree\n",
    "#b) In decission tree Accuracy obtained is 96.5%\n",
    "#c) Same Way Random forest has also highest accuracy which is 95.6%\n",
    "\n"
   ]
  },
  {
   "cell_type": "code",
   "execution_count": null,
   "id": "791b7cfd",
   "metadata": {},
   "outputs": [],
   "source": []
  },
  {
   "cell_type": "markdown",
   "id": "c923715d",
   "metadata": {},
   "source": [
    "# EXPLORATORY DATA ANALAYSIS"
   ]
  },
  {
   "cell_type": "code",
   "execution_count": 37,
   "id": "0d6fc7f5",
   "metadata": {},
   "outputs": [],
   "source": [
    "# Read the CSV file"
   ]
  },
  {
   "cell_type": "code",
   "execution_count": 38,
   "id": "1b902135",
   "metadata": {},
   "outputs": [
    {
     "data": {
      "text/html": [
       "<div>\n",
       "<style scoped>\n",
       "    .dataframe tbody tr th:only-of-type {\n",
       "        vertical-align: middle;\n",
       "    }\n",
       "\n",
       "    .dataframe tbody tr th {\n",
       "        vertical-align: top;\n",
       "    }\n",
       "\n",
       "    .dataframe thead th {\n",
       "        text-align: right;\n",
       "    }\n",
       "</style>\n",
       "<table border=\"1\" class=\"dataframe\">\n",
       "  <thead>\n",
       "    <tr style=\"text-align: right;\">\n",
       "      <th></th>\n",
       "      <th>ID</th>\n",
       "      <th>Name</th>\n",
       "      <th>Date</th>\n",
       "      <th>Time</th>\n",
       "      <th>Event</th>\n",
       "      <th>Status</th>\n",
       "      <th>Latitude</th>\n",
       "      <th>Longitude</th>\n",
       "      <th>Maximum Wind</th>\n",
       "      <th>Minimum Pressure</th>\n",
       "      <th>...</th>\n",
       "      <th>Low Wind SW</th>\n",
       "      <th>Low Wind NW</th>\n",
       "      <th>Moderate Wind NE</th>\n",
       "      <th>Moderate Wind SE</th>\n",
       "      <th>Moderate Wind SW</th>\n",
       "      <th>Moderate Wind NW</th>\n",
       "      <th>High Wind NE</th>\n",
       "      <th>High Wind SE</th>\n",
       "      <th>High Wind SW</th>\n",
       "      <th>High Wind NW</th>\n",
       "    </tr>\n",
       "  </thead>\n",
       "  <tbody>\n",
       "    <tr>\n",
       "      <th>0</th>\n",
       "      <td>EP011949</td>\n",
       "      <td>UNNAMED</td>\n",
       "      <td>19490611</td>\n",
       "      <td>0</td>\n",
       "      <td></td>\n",
       "      <td>TS</td>\n",
       "      <td>20.2N</td>\n",
       "      <td>106.3W</td>\n",
       "      <td>45</td>\n",
       "      <td>-999</td>\n",
       "      <td>...</td>\n",
       "      <td>-999</td>\n",
       "      <td>-999</td>\n",
       "      <td>-999</td>\n",
       "      <td>-999</td>\n",
       "      <td>-999</td>\n",
       "      <td>-999</td>\n",
       "      <td>-999</td>\n",
       "      <td>-999</td>\n",
       "      <td>-999</td>\n",
       "      <td>-999</td>\n",
       "    </tr>\n",
       "    <tr>\n",
       "      <th>1</th>\n",
       "      <td>EP011949</td>\n",
       "      <td>UNNAMED</td>\n",
       "      <td>19490611</td>\n",
       "      <td>600</td>\n",
       "      <td></td>\n",
       "      <td>TS</td>\n",
       "      <td>20.2N</td>\n",
       "      <td>106.4W</td>\n",
       "      <td>45</td>\n",
       "      <td>-999</td>\n",
       "      <td>...</td>\n",
       "      <td>-999</td>\n",
       "      <td>-999</td>\n",
       "      <td>-999</td>\n",
       "      <td>-999</td>\n",
       "      <td>-999</td>\n",
       "      <td>-999</td>\n",
       "      <td>-999</td>\n",
       "      <td>-999</td>\n",
       "      <td>-999</td>\n",
       "      <td>-999</td>\n",
       "    </tr>\n",
       "    <tr>\n",
       "      <th>2</th>\n",
       "      <td>EP011949</td>\n",
       "      <td>UNNAMED</td>\n",
       "      <td>19490611</td>\n",
       "      <td>1200</td>\n",
       "      <td></td>\n",
       "      <td>TS</td>\n",
       "      <td>20.2N</td>\n",
       "      <td>106.7W</td>\n",
       "      <td>45</td>\n",
       "      <td>-999</td>\n",
       "      <td>...</td>\n",
       "      <td>-999</td>\n",
       "      <td>-999</td>\n",
       "      <td>-999</td>\n",
       "      <td>-999</td>\n",
       "      <td>-999</td>\n",
       "      <td>-999</td>\n",
       "      <td>-999</td>\n",
       "      <td>-999</td>\n",
       "      <td>-999</td>\n",
       "      <td>-999</td>\n",
       "    </tr>\n",
       "    <tr>\n",
       "      <th>3</th>\n",
       "      <td>EP011949</td>\n",
       "      <td>UNNAMED</td>\n",
       "      <td>19490611</td>\n",
       "      <td>1800</td>\n",
       "      <td></td>\n",
       "      <td>TS</td>\n",
       "      <td>20.3N</td>\n",
       "      <td>107.7W</td>\n",
       "      <td>45</td>\n",
       "      <td>-999</td>\n",
       "      <td>...</td>\n",
       "      <td>-999</td>\n",
       "      <td>-999</td>\n",
       "      <td>-999</td>\n",
       "      <td>-999</td>\n",
       "      <td>-999</td>\n",
       "      <td>-999</td>\n",
       "      <td>-999</td>\n",
       "      <td>-999</td>\n",
       "      <td>-999</td>\n",
       "      <td>-999</td>\n",
       "    </tr>\n",
       "    <tr>\n",
       "      <th>4</th>\n",
       "      <td>EP011949</td>\n",
       "      <td>UNNAMED</td>\n",
       "      <td>19490612</td>\n",
       "      <td>0</td>\n",
       "      <td></td>\n",
       "      <td>TS</td>\n",
       "      <td>20.4N</td>\n",
       "      <td>108.6W</td>\n",
       "      <td>45</td>\n",
       "      <td>-999</td>\n",
       "      <td>...</td>\n",
       "      <td>-999</td>\n",
       "      <td>-999</td>\n",
       "      <td>-999</td>\n",
       "      <td>-999</td>\n",
       "      <td>-999</td>\n",
       "      <td>-999</td>\n",
       "      <td>-999</td>\n",
       "      <td>-999</td>\n",
       "      <td>-999</td>\n",
       "      <td>-999</td>\n",
       "    </tr>\n",
       "    <tr>\n",
       "      <th>...</th>\n",
       "      <td>...</td>\n",
       "      <td>...</td>\n",
       "      <td>...</td>\n",
       "      <td>...</td>\n",
       "      <td>...</td>\n",
       "      <td>...</td>\n",
       "      <td>...</td>\n",
       "      <td>...</td>\n",
       "      <td>...</td>\n",
       "      <td>...</td>\n",
       "      <td>...</td>\n",
       "      <td>...</td>\n",
       "      <td>...</td>\n",
       "      <td>...</td>\n",
       "      <td>...</td>\n",
       "      <td>...</td>\n",
       "      <td>...</td>\n",
       "      <td>...</td>\n",
       "      <td>...</td>\n",
       "      <td>...</td>\n",
       "      <td>...</td>\n",
       "    </tr>\n",
       "    <tr>\n",
       "      <th>26132</th>\n",
       "      <td>EP222015</td>\n",
       "      <td>SANDRA</td>\n",
       "      <td>20151128</td>\n",
       "      <td>1200</td>\n",
       "      <td></td>\n",
       "      <td>LO</td>\n",
       "      <td>21.7N</td>\n",
       "      <td>109.0W</td>\n",
       "      <td>35</td>\n",
       "      <td>1002</td>\n",
       "      <td>...</td>\n",
       "      <td>0</td>\n",
       "      <td>0</td>\n",
       "      <td>0</td>\n",
       "      <td>0</td>\n",
       "      <td>0</td>\n",
       "      <td>0</td>\n",
       "      <td>0</td>\n",
       "      <td>0</td>\n",
       "      <td>0</td>\n",
       "      <td>0</td>\n",
       "    </tr>\n",
       "    <tr>\n",
       "      <th>26133</th>\n",
       "      <td>EP222015</td>\n",
       "      <td>SANDRA</td>\n",
       "      <td>20151128</td>\n",
       "      <td>1800</td>\n",
       "      <td></td>\n",
       "      <td>LO</td>\n",
       "      <td>22.4N</td>\n",
       "      <td>108.7W</td>\n",
       "      <td>30</td>\n",
       "      <td>1007</td>\n",
       "      <td>...</td>\n",
       "      <td>0</td>\n",
       "      <td>0</td>\n",
       "      <td>0</td>\n",
       "      <td>0</td>\n",
       "      <td>0</td>\n",
       "      <td>0</td>\n",
       "      <td>0</td>\n",
       "      <td>0</td>\n",
       "      <td>0</td>\n",
       "      <td>0</td>\n",
       "    </tr>\n",
       "    <tr>\n",
       "      <th>26134</th>\n",
       "      <td>EP222015</td>\n",
       "      <td>SANDRA</td>\n",
       "      <td>20151129</td>\n",
       "      <td>0</td>\n",
       "      <td></td>\n",
       "      <td>LO</td>\n",
       "      <td>23.1N</td>\n",
       "      <td>108.3W</td>\n",
       "      <td>30</td>\n",
       "      <td>1008</td>\n",
       "      <td>...</td>\n",
       "      <td>0</td>\n",
       "      <td>0</td>\n",
       "      <td>0</td>\n",
       "      <td>0</td>\n",
       "      <td>0</td>\n",
       "      <td>0</td>\n",
       "      <td>0</td>\n",
       "      <td>0</td>\n",
       "      <td>0</td>\n",
       "      <td>0</td>\n",
       "    </tr>\n",
       "    <tr>\n",
       "      <th>26135</th>\n",
       "      <td>EP222015</td>\n",
       "      <td>SANDRA</td>\n",
       "      <td>20151129</td>\n",
       "      <td>600</td>\n",
       "      <td></td>\n",
       "      <td>LO</td>\n",
       "      <td>23.5N</td>\n",
       "      <td>107.9W</td>\n",
       "      <td>25</td>\n",
       "      <td>1009</td>\n",
       "      <td>...</td>\n",
       "      <td>0</td>\n",
       "      <td>0</td>\n",
       "      <td>0</td>\n",
       "      <td>0</td>\n",
       "      <td>0</td>\n",
       "      <td>0</td>\n",
       "      <td>0</td>\n",
       "      <td>0</td>\n",
       "      <td>0</td>\n",
       "      <td>0</td>\n",
       "    </tr>\n",
       "    <tr>\n",
       "      <th>26136</th>\n",
       "      <td>EP222015</td>\n",
       "      <td>SANDRA</td>\n",
       "      <td>20151129</td>\n",
       "      <td>1200</td>\n",
       "      <td></td>\n",
       "      <td>LO</td>\n",
       "      <td>24.2N</td>\n",
       "      <td>107.7W</td>\n",
       "      <td>20</td>\n",
       "      <td>1010</td>\n",
       "      <td>...</td>\n",
       "      <td>0</td>\n",
       "      <td>0</td>\n",
       "      <td>0</td>\n",
       "      <td>0</td>\n",
       "      <td>0</td>\n",
       "      <td>0</td>\n",
       "      <td>0</td>\n",
       "      <td>0</td>\n",
       "      <td>0</td>\n",
       "      <td>0</td>\n",
       "    </tr>\n",
       "  </tbody>\n",
       "</table>\n",
       "<p>26137 rows × 22 columns</p>\n",
       "</div>"
      ],
      "text/plain": [
       "             ID                 Name      Date  Time Event Status Latitude   \n",
       "0      EP011949              UNNAMED  19490611     0           TS    20.2N  \\\n",
       "1      EP011949              UNNAMED  19490611   600           TS    20.2N   \n",
       "2      EP011949              UNNAMED  19490611  1200           TS    20.2N   \n",
       "3      EP011949              UNNAMED  19490611  1800           TS    20.3N   \n",
       "4      EP011949              UNNAMED  19490612     0           TS    20.4N   \n",
       "...         ...                  ...       ...   ...   ...    ...      ...   \n",
       "26132  EP222015               SANDRA  20151128  1200           LO    21.7N   \n",
       "26133  EP222015               SANDRA  20151128  1800           LO    22.4N   \n",
       "26134  EP222015               SANDRA  20151129     0           LO    23.1N   \n",
       "26135  EP222015               SANDRA  20151129   600           LO    23.5N   \n",
       "26136  EP222015               SANDRA  20151129  1200           LO    24.2N   \n",
       "\n",
       "      Longitude  Maximum Wind  Minimum Pressure  ...  Low Wind SW   \n",
       "0        106.3W            45              -999  ...         -999  \\\n",
       "1        106.4W            45              -999  ...         -999   \n",
       "2        106.7W            45              -999  ...         -999   \n",
       "3        107.7W            45              -999  ...         -999   \n",
       "4        108.6W            45              -999  ...         -999   \n",
       "...         ...           ...               ...  ...          ...   \n",
       "26132    109.0W            35              1002  ...            0   \n",
       "26133    108.7W            30              1007  ...            0   \n",
       "26134    108.3W            30              1008  ...            0   \n",
       "26135    107.9W            25              1009  ...            0   \n",
       "26136    107.7W            20              1010  ...            0   \n",
       "\n",
       "       Low Wind NW  Moderate Wind NE  Moderate Wind SE  Moderate Wind SW   \n",
       "0             -999              -999              -999              -999  \\\n",
       "1             -999              -999              -999              -999   \n",
       "2             -999              -999              -999              -999   \n",
       "3             -999              -999              -999              -999   \n",
       "4             -999              -999              -999              -999   \n",
       "...            ...               ...               ...               ...   \n",
       "26132            0                 0                 0                 0   \n",
       "26133            0                 0                 0                 0   \n",
       "26134            0                 0                 0                 0   \n",
       "26135            0                 0                 0                 0   \n",
       "26136            0                 0                 0                 0   \n",
       "\n",
       "       Moderate Wind NW  High Wind NE  High Wind SE  High Wind SW   \n",
       "0                  -999          -999          -999          -999  \\\n",
       "1                  -999          -999          -999          -999   \n",
       "2                  -999          -999          -999          -999   \n",
       "3                  -999          -999          -999          -999   \n",
       "4                  -999          -999          -999          -999   \n",
       "...                 ...           ...           ...           ...   \n",
       "26132                 0             0             0             0   \n",
       "26133                 0             0             0             0   \n",
       "26134                 0             0             0             0   \n",
       "26135                 0             0             0             0   \n",
       "26136                 0             0             0             0   \n",
       "\n",
       "       High Wind NW  \n",
       "0              -999  \n",
       "1              -999  \n",
       "2              -999  \n",
       "3              -999  \n",
       "4              -999  \n",
       "...             ...  \n",
       "26132             0  \n",
       "26133             0  \n",
       "26134             0  \n",
       "26135             0  \n",
       "26136             0  \n",
       "\n",
       "[26137 rows x 22 columns]"
      ]
     },
     "execution_count": 38,
     "metadata": {},
     "output_type": "execute_result"
    }
   ],
   "source": [
    "data"
   ]
  },
  {
   "cell_type": "code",
   "execution_count": 39,
   "id": "29de8c7d",
   "metadata": {},
   "outputs": [],
   "source": [
    "#Convert the date format to date time"
   ]
  },
  {
   "cell_type": "code",
   "execution_count": 40,
   "id": "e9e449cb",
   "metadata": {},
   "outputs": [],
   "source": [
    "data['Date']=pd.to_datetime(data[\"Date\"], format='%Y%m%d')"
   ]
  },
  {
   "cell_type": "code",
   "execution_count": 41,
   "id": "a3f8c0ff",
   "metadata": {},
   "outputs": [],
   "source": [
    "#Spliiting month and Year from Date field"
   ]
  },
  {
   "cell_type": "code",
   "execution_count": 42,
   "id": "73542c71",
   "metadata": {},
   "outputs": [],
   "source": [
    "data['Month'] =data['Date'].dt.month\n",
    "data['Year'] = data['Date'].dt.year"
   ]
  },
  {
   "cell_type": "code",
   "execution_count": 43,
   "id": "d6ab68fc",
   "metadata": {
    "scrolled": true
   },
   "outputs": [
    {
     "data": {
      "text/html": [
       "<div>\n",
       "<style scoped>\n",
       "    .dataframe tbody tr th:only-of-type {\n",
       "        vertical-align: middle;\n",
       "    }\n",
       "\n",
       "    .dataframe tbody tr th {\n",
       "        vertical-align: top;\n",
       "    }\n",
       "\n",
       "    .dataframe thead th {\n",
       "        text-align: right;\n",
       "    }\n",
       "</style>\n",
       "<table border=\"1\" class=\"dataframe\">\n",
       "  <thead>\n",
       "    <tr style=\"text-align: right;\">\n",
       "      <th></th>\n",
       "      <th>ID</th>\n",
       "      <th>Name</th>\n",
       "      <th>Date</th>\n",
       "      <th>Time</th>\n",
       "      <th>Event</th>\n",
       "      <th>Status</th>\n",
       "      <th>Latitude</th>\n",
       "      <th>Longitude</th>\n",
       "      <th>Maximum Wind</th>\n",
       "      <th>Minimum Pressure</th>\n",
       "      <th>...</th>\n",
       "      <th>Moderate Wind NE</th>\n",
       "      <th>Moderate Wind SE</th>\n",
       "      <th>Moderate Wind SW</th>\n",
       "      <th>Moderate Wind NW</th>\n",
       "      <th>High Wind NE</th>\n",
       "      <th>High Wind SE</th>\n",
       "      <th>High Wind SW</th>\n",
       "      <th>High Wind NW</th>\n",
       "      <th>Month</th>\n",
       "      <th>Year</th>\n",
       "    </tr>\n",
       "  </thead>\n",
       "  <tbody>\n",
       "    <tr>\n",
       "      <th>0</th>\n",
       "      <td>EP011949</td>\n",
       "      <td>UNNAMED</td>\n",
       "      <td>1949-06-11</td>\n",
       "      <td>0</td>\n",
       "      <td></td>\n",
       "      <td>TS</td>\n",
       "      <td>20.2N</td>\n",
       "      <td>106.3W</td>\n",
       "      <td>45</td>\n",
       "      <td>-999</td>\n",
       "      <td>...</td>\n",
       "      <td>-999</td>\n",
       "      <td>-999</td>\n",
       "      <td>-999</td>\n",
       "      <td>-999</td>\n",
       "      <td>-999</td>\n",
       "      <td>-999</td>\n",
       "      <td>-999</td>\n",
       "      <td>-999</td>\n",
       "      <td>6</td>\n",
       "      <td>1949</td>\n",
       "    </tr>\n",
       "    <tr>\n",
       "      <th>1</th>\n",
       "      <td>EP011949</td>\n",
       "      <td>UNNAMED</td>\n",
       "      <td>1949-06-11</td>\n",
       "      <td>600</td>\n",
       "      <td></td>\n",
       "      <td>TS</td>\n",
       "      <td>20.2N</td>\n",
       "      <td>106.4W</td>\n",
       "      <td>45</td>\n",
       "      <td>-999</td>\n",
       "      <td>...</td>\n",
       "      <td>-999</td>\n",
       "      <td>-999</td>\n",
       "      <td>-999</td>\n",
       "      <td>-999</td>\n",
       "      <td>-999</td>\n",
       "      <td>-999</td>\n",
       "      <td>-999</td>\n",
       "      <td>-999</td>\n",
       "      <td>6</td>\n",
       "      <td>1949</td>\n",
       "    </tr>\n",
       "    <tr>\n",
       "      <th>2</th>\n",
       "      <td>EP011949</td>\n",
       "      <td>UNNAMED</td>\n",
       "      <td>1949-06-11</td>\n",
       "      <td>1200</td>\n",
       "      <td></td>\n",
       "      <td>TS</td>\n",
       "      <td>20.2N</td>\n",
       "      <td>106.7W</td>\n",
       "      <td>45</td>\n",
       "      <td>-999</td>\n",
       "      <td>...</td>\n",
       "      <td>-999</td>\n",
       "      <td>-999</td>\n",
       "      <td>-999</td>\n",
       "      <td>-999</td>\n",
       "      <td>-999</td>\n",
       "      <td>-999</td>\n",
       "      <td>-999</td>\n",
       "      <td>-999</td>\n",
       "      <td>6</td>\n",
       "      <td>1949</td>\n",
       "    </tr>\n",
       "    <tr>\n",
       "      <th>3</th>\n",
       "      <td>EP011949</td>\n",
       "      <td>UNNAMED</td>\n",
       "      <td>1949-06-11</td>\n",
       "      <td>1800</td>\n",
       "      <td></td>\n",
       "      <td>TS</td>\n",
       "      <td>20.3N</td>\n",
       "      <td>107.7W</td>\n",
       "      <td>45</td>\n",
       "      <td>-999</td>\n",
       "      <td>...</td>\n",
       "      <td>-999</td>\n",
       "      <td>-999</td>\n",
       "      <td>-999</td>\n",
       "      <td>-999</td>\n",
       "      <td>-999</td>\n",
       "      <td>-999</td>\n",
       "      <td>-999</td>\n",
       "      <td>-999</td>\n",
       "      <td>6</td>\n",
       "      <td>1949</td>\n",
       "    </tr>\n",
       "    <tr>\n",
       "      <th>4</th>\n",
       "      <td>EP011949</td>\n",
       "      <td>UNNAMED</td>\n",
       "      <td>1949-06-12</td>\n",
       "      <td>0</td>\n",
       "      <td></td>\n",
       "      <td>TS</td>\n",
       "      <td>20.4N</td>\n",
       "      <td>108.6W</td>\n",
       "      <td>45</td>\n",
       "      <td>-999</td>\n",
       "      <td>...</td>\n",
       "      <td>-999</td>\n",
       "      <td>-999</td>\n",
       "      <td>-999</td>\n",
       "      <td>-999</td>\n",
       "      <td>-999</td>\n",
       "      <td>-999</td>\n",
       "      <td>-999</td>\n",
       "      <td>-999</td>\n",
       "      <td>6</td>\n",
       "      <td>1949</td>\n",
       "    </tr>\n",
       "    <tr>\n",
       "      <th>...</th>\n",
       "      <td>...</td>\n",
       "      <td>...</td>\n",
       "      <td>...</td>\n",
       "      <td>...</td>\n",
       "      <td>...</td>\n",
       "      <td>...</td>\n",
       "      <td>...</td>\n",
       "      <td>...</td>\n",
       "      <td>...</td>\n",
       "      <td>...</td>\n",
       "      <td>...</td>\n",
       "      <td>...</td>\n",
       "      <td>...</td>\n",
       "      <td>...</td>\n",
       "      <td>...</td>\n",
       "      <td>...</td>\n",
       "      <td>...</td>\n",
       "      <td>...</td>\n",
       "      <td>...</td>\n",
       "      <td>...</td>\n",
       "      <td>...</td>\n",
       "    </tr>\n",
       "    <tr>\n",
       "      <th>26132</th>\n",
       "      <td>EP222015</td>\n",
       "      <td>SANDRA</td>\n",
       "      <td>2015-11-28</td>\n",
       "      <td>1200</td>\n",
       "      <td></td>\n",
       "      <td>LO</td>\n",
       "      <td>21.7N</td>\n",
       "      <td>109.0W</td>\n",
       "      <td>35</td>\n",
       "      <td>1002</td>\n",
       "      <td>...</td>\n",
       "      <td>0</td>\n",
       "      <td>0</td>\n",
       "      <td>0</td>\n",
       "      <td>0</td>\n",
       "      <td>0</td>\n",
       "      <td>0</td>\n",
       "      <td>0</td>\n",
       "      <td>0</td>\n",
       "      <td>11</td>\n",
       "      <td>2015</td>\n",
       "    </tr>\n",
       "    <tr>\n",
       "      <th>26133</th>\n",
       "      <td>EP222015</td>\n",
       "      <td>SANDRA</td>\n",
       "      <td>2015-11-28</td>\n",
       "      <td>1800</td>\n",
       "      <td></td>\n",
       "      <td>LO</td>\n",
       "      <td>22.4N</td>\n",
       "      <td>108.7W</td>\n",
       "      <td>30</td>\n",
       "      <td>1007</td>\n",
       "      <td>...</td>\n",
       "      <td>0</td>\n",
       "      <td>0</td>\n",
       "      <td>0</td>\n",
       "      <td>0</td>\n",
       "      <td>0</td>\n",
       "      <td>0</td>\n",
       "      <td>0</td>\n",
       "      <td>0</td>\n",
       "      <td>11</td>\n",
       "      <td>2015</td>\n",
       "    </tr>\n",
       "    <tr>\n",
       "      <th>26134</th>\n",
       "      <td>EP222015</td>\n",
       "      <td>SANDRA</td>\n",
       "      <td>2015-11-29</td>\n",
       "      <td>0</td>\n",
       "      <td></td>\n",
       "      <td>LO</td>\n",
       "      <td>23.1N</td>\n",
       "      <td>108.3W</td>\n",
       "      <td>30</td>\n",
       "      <td>1008</td>\n",
       "      <td>...</td>\n",
       "      <td>0</td>\n",
       "      <td>0</td>\n",
       "      <td>0</td>\n",
       "      <td>0</td>\n",
       "      <td>0</td>\n",
       "      <td>0</td>\n",
       "      <td>0</td>\n",
       "      <td>0</td>\n",
       "      <td>11</td>\n",
       "      <td>2015</td>\n",
       "    </tr>\n",
       "    <tr>\n",
       "      <th>26135</th>\n",
       "      <td>EP222015</td>\n",
       "      <td>SANDRA</td>\n",
       "      <td>2015-11-29</td>\n",
       "      <td>600</td>\n",
       "      <td></td>\n",
       "      <td>LO</td>\n",
       "      <td>23.5N</td>\n",
       "      <td>107.9W</td>\n",
       "      <td>25</td>\n",
       "      <td>1009</td>\n",
       "      <td>...</td>\n",
       "      <td>0</td>\n",
       "      <td>0</td>\n",
       "      <td>0</td>\n",
       "      <td>0</td>\n",
       "      <td>0</td>\n",
       "      <td>0</td>\n",
       "      <td>0</td>\n",
       "      <td>0</td>\n",
       "      <td>11</td>\n",
       "      <td>2015</td>\n",
       "    </tr>\n",
       "    <tr>\n",
       "      <th>26136</th>\n",
       "      <td>EP222015</td>\n",
       "      <td>SANDRA</td>\n",
       "      <td>2015-11-29</td>\n",
       "      <td>1200</td>\n",
       "      <td></td>\n",
       "      <td>LO</td>\n",
       "      <td>24.2N</td>\n",
       "      <td>107.7W</td>\n",
       "      <td>20</td>\n",
       "      <td>1010</td>\n",
       "      <td>...</td>\n",
       "      <td>0</td>\n",
       "      <td>0</td>\n",
       "      <td>0</td>\n",
       "      <td>0</td>\n",
       "      <td>0</td>\n",
       "      <td>0</td>\n",
       "      <td>0</td>\n",
       "      <td>0</td>\n",
       "      <td>11</td>\n",
       "      <td>2015</td>\n",
       "    </tr>\n",
       "  </tbody>\n",
       "</table>\n",
       "<p>26137 rows × 24 columns</p>\n",
       "</div>"
      ],
      "text/plain": [
       "             ID                 Name       Date  Time Event Status Latitude   \n",
       "0      EP011949              UNNAMED 1949-06-11     0           TS    20.2N  \\\n",
       "1      EP011949              UNNAMED 1949-06-11   600           TS    20.2N   \n",
       "2      EP011949              UNNAMED 1949-06-11  1200           TS    20.2N   \n",
       "3      EP011949              UNNAMED 1949-06-11  1800           TS    20.3N   \n",
       "4      EP011949              UNNAMED 1949-06-12     0           TS    20.4N   \n",
       "...         ...                  ...        ...   ...   ...    ...      ...   \n",
       "26132  EP222015               SANDRA 2015-11-28  1200           LO    21.7N   \n",
       "26133  EP222015               SANDRA 2015-11-28  1800           LO    22.4N   \n",
       "26134  EP222015               SANDRA 2015-11-29     0           LO    23.1N   \n",
       "26135  EP222015               SANDRA 2015-11-29   600           LO    23.5N   \n",
       "26136  EP222015               SANDRA 2015-11-29  1200           LO    24.2N   \n",
       "\n",
       "      Longitude  Maximum Wind  Minimum Pressure  ...  Moderate Wind NE   \n",
       "0        106.3W            45              -999  ...              -999  \\\n",
       "1        106.4W            45              -999  ...              -999   \n",
       "2        106.7W            45              -999  ...              -999   \n",
       "3        107.7W            45              -999  ...              -999   \n",
       "4        108.6W            45              -999  ...              -999   \n",
       "...         ...           ...               ...  ...               ...   \n",
       "26132    109.0W            35              1002  ...                 0   \n",
       "26133    108.7W            30              1007  ...                 0   \n",
       "26134    108.3W            30              1008  ...                 0   \n",
       "26135    107.9W            25              1009  ...                 0   \n",
       "26136    107.7W            20              1010  ...                 0   \n",
       "\n",
       "       Moderate Wind SE  Moderate Wind SW  Moderate Wind NW  High Wind NE   \n",
       "0                  -999              -999              -999          -999  \\\n",
       "1                  -999              -999              -999          -999   \n",
       "2                  -999              -999              -999          -999   \n",
       "3                  -999              -999              -999          -999   \n",
       "4                  -999              -999              -999          -999   \n",
       "...                 ...               ...               ...           ...   \n",
       "26132                 0                 0                 0             0   \n",
       "26133                 0                 0                 0             0   \n",
       "26134                 0                 0                 0             0   \n",
       "26135                 0                 0                 0             0   \n",
       "26136                 0                 0                 0             0   \n",
       "\n",
       "       High Wind SE  High Wind SW  High Wind NW  Month  Year  \n",
       "0              -999          -999          -999      6  1949  \n",
       "1              -999          -999          -999      6  1949  \n",
       "2              -999          -999          -999      6  1949  \n",
       "3              -999          -999          -999      6  1949  \n",
       "4              -999          -999          -999      6  1949  \n",
       "...             ...           ...           ...    ...   ...  \n",
       "26132             0             0             0     11  2015  \n",
       "26133             0             0             0     11  2015  \n",
       "26134             0             0             0     11  2015  \n",
       "26135             0             0             0     11  2015  \n",
       "26136             0             0             0     11  2015  \n",
       "\n",
       "[26137 rows x 24 columns]"
      ]
     },
     "execution_count": 43,
     "metadata": {},
     "output_type": "execute_result"
    }
   ],
   "source": [
    "data"
   ]
  },
  {
   "cell_type": "markdown",
   "id": "f51d918c",
   "metadata": {},
   "source": [
    "# Exploration based on Hurricane and Typhoon"
   ]
  },
  {
   "cell_type": "code",
   "execution_count": 44,
   "id": "55955628",
   "metadata": {},
   "outputs": [],
   "source": [
    "#Total count of diffrent hurricanes and Typhoons"
   ]
  },
  {
   "cell_type": "code",
   "execution_count": 45,
   "id": "3d8d4538",
   "metadata": {
    "scrolled": true
   },
   "outputs": [
    {
     "data": {
      "text/plain": [
       "Name\n",
       "            UNNAMED    2180\n",
       "           FERNANDA     318\n",
       "               JOHN     295\n",
       "            ESTELLE     293\n",
       "             DANIEL     292\n",
       "          GUILLERMO     285\n",
       "             HILARY     277\n",
       "           CARLOTTA     266\n",
       "          GENEVIEVE     264\n",
       "             BLANCA     258\n",
       "Name: Name, dtype: int64"
      ]
     },
     "execution_count": 45,
     "metadata": {},
     "output_type": "execute_result"
    }
   ],
   "source": [
    "total_type=data.groupby(\"Name\")[\"Name\"].count().sort_values(ascending=False)\n",
    "total_type.head(10)"
   ]
  },
  {
   "cell_type": "code",
   "execution_count": 46,
   "id": "768040e8",
   "metadata": {},
   "outputs": [],
   "source": [
    "# plot the graph for top 10 Hurricanes and Typhoons"
   ]
  },
  {
   "cell_type": "code",
   "execution_count": 47,
   "id": "532b1eda",
   "metadata": {
    "scrolled": false
   },
   "outputs": [
    {
     "data": {
      "image/png": "[encoded data removed]",
      "text/plain": [
       "<Figure size 800x800 with 1 Axes>"
      ]
     },
     "metadata": {},
     "output_type": "display_data"
    }
   ],
   "source": [
    "total_type.head(10).plot(kind='pie', subplots=True, autopct='%1.2f', figsize=(8,8), title='top 10 hurricanes and typhoons with maximum occurance')\n",
    "plt.show()"
   ]
  },
  {
   "cell_type": "code",
   "execution_count": null,
   "id": "31bc9dae",
   "metadata": {},
   "outputs": [],
   "source": [
    "Inference from Hurricanes and Typhoon Occurances\n",
    "a) There are many as 2180 \"UNNAMED\" Hurricanes and Typhoons occurances\n",
    "a) \"FERNAND\" and \"JOHN\" are second and third highest typhoons with 318 and 295 occurances"
   ]
  },
  {
   "cell_type": "markdown",
   "id": "a27e94dd",
   "metadata": {},
   "source": [
    "# Exploration Based on Cyclone status"
   ]
  },
  {
   "cell_type": "code",
   "execution_count": 48,
   "id": "a499fcab",
   "metadata": {},
   "outputs": [],
   "source": [
    "# Count of cyclone status status "
   ]
  },
  {
   "cell_type": "code",
   "execution_count": 65,
   "id": "847c1728",
   "metadata": {
    "scrolled": true
   },
   "outputs": [
    {
     "data": {
      "text/plain": [
       "Status\n",
       " TS     10076\n",
       " TD      6965\n",
       " HU      6765\n",
       " LO      1828\n",
       " DB       217\n",
       " ET       152\n",
       " EX       110\n",
       " SS         7\n",
       " PT         6\n",
       " ST         6\n",
       " SD         4\n",
       " HU         1\n",
       "Name: Status, dtype: int64"
      ]
     },
     "execution_count": 65,
     "metadata": {},
     "output_type": "execute_result"
    }
   ],
   "source": [
    "Hurricane_type=data.groupby(\"Status\")[\"Status\"].count().sort_values(ascending=False)\n",
    "Hurricane_type"
   ]
  },
  {
   "cell_type": "code",
   "execution_count": 50,
   "id": "a65b0944",
   "metadata": {},
   "outputs": [],
   "source": [
    "# plot the Line graph for top 10 Cyclone Status"
   ]
  },
  {
   "cell_type": "code",
   "execution_count": 51,
   "id": "a98d05bb",
   "metadata": {},
   "outputs": [
    {
     "data": {
      "text/plain": [
       "Text(0, 0.5, 'Frequency')"
      ]
     },
     "execution_count": 51,
     "metadata": {},
     "output_type": "execute_result"
    },
    {
     "data": {
      "image/png": "[encoded data removed]",
      "text/plain": [
       "<Figure size 1000x800 with 1 Axes>"
      ]
     },
     "metadata": {},
     "output_type": "display_data"
    }
   ],
   "source": [
    "Hurricane_type.plot(kind='line', figsize=(10,8), title=\"Occurances of Type of Hurricanes and Typhoons category\",grid=True)\n",
    "plt.ylabel('Frequency')"
   ]
  },
  {
   "cell_type": "markdown",
   "id": "2c55cb42",
   "metadata": {},
   "source": [
    "# Inference from Cyclone Status"
   ]
  },
  {
   "cell_type": "code",
   "execution_count": null,
   "id": "2e018764",
   "metadata": {},
   "outputs": [],
   "source": [
    "a)TS – Tropical cyclone of tropical storm intensity (34-63 knots) has maximum occurances\n",
    "b)TD – Tropical cyclone of tropical depression intensity (< 34 knots) has second maximum occurance and followed by HU – Tropical cyclone of hurricane intensity (> 64 knots)\n",
    "c)SD – Subtropical cyclone of subtropical depression intensity (< 34 knots) has the lowest occurance"
   ]
  },
  {
   "cell_type": "markdown",
   "id": "5f03ec18",
   "metadata": {},
   "source": [
    "# Exploration Based on Status of Cyclones vs. Months"
   ]
  },
  {
   "cell_type": "code",
   "execution_count": 52,
   "id": "b50278f4",
   "metadata": {},
   "outputs": [],
   "source": [
    "# Count of Hurricane and Typhoons status across months"
   ]
  },
  {
   "cell_type": "code",
   "execution_count": 53,
   "id": "32463538",
   "metadata": {
    "scrolled": true
   },
   "outputs": [
    {
     "data": {
      "text/plain": [
       "Month\n",
       "8     6931\n",
       "9     6206\n",
       "7     5345\n",
       "10    3560\n",
       "6     2653\n",
       "5      634\n",
       "11     592\n",
       "12     151\n",
       "2       33\n",
       "1       21\n",
       "3       11\n",
       "Name: Status, dtype: int64"
      ]
     },
     "execution_count": 53,
     "metadata": {},
     "output_type": "execute_result"
    }
   ],
   "source": [
    "Month_dist=data.groupby(\"Month\")[\"Status\"].count().sort_values(ascending=False)\n",
    "Month_dist"
   ]
  },
  {
   "cell_type": "code",
   "execution_count": 54,
   "id": "f3a46bf9",
   "metadata": {},
   "outputs": [],
   "source": [
    "# plot the bar graph for Hurricanes and Typhoons Status across months"
   ]
  },
  {
   "cell_type": "code",
   "execution_count": 55,
   "id": "01423c62",
   "metadata": {
    "scrolled": true
   },
   "outputs": [
    {
     "data": {
      "text/plain": [
       "Text(0, 0.5, 'Frequency')"
      ]
     },
     "execution_count": 55,
     "metadata": {},
     "output_type": "execute_result"
    },
    {
     "data": {
      "image/png": "[encoded data removed]",
      "text/plain": [
       "<Figure size 1000x800 with 1 Axes>"
      ]
     },
     "metadata": {},
     "output_type": "display_data"
    }
   ],
   "source": [
    "Month_dist.plot(kind='bar', figsize=(10,8), title=\"Occurances of Type of Hurricanes and Typhoons category\",grid=True)\n",
    "plt.ylabel('Frequency')"
   ]
  },
  {
   "cell_type": "markdown",
   "id": "b5b12bfa",
   "metadata": {},
   "source": [
    "# Inference of cyclone status at different months"
   ]
  },
  {
   "cell_type": "code",
   "execution_count": null,
   "id": "19e8ae53",
   "metadata": {},
   "outputs": [],
   "source": [
    "a) Maximum of Cyclone occured in October month followed by September month\n",
    "b) Least of cyclone occured in November to March Month"
   ]
  },
  {
   "cell_type": "markdown",
   "id": "fdb15df7",
   "metadata": {},
   "source": [
    "# Exploration Based on Status of Cyclones vs. Years"
   ]
  },
  {
   "cell_type": "code",
   "execution_count": 56,
   "id": "434a38b4",
   "metadata": {},
   "outputs": [],
   "source": [
    "# Count of Hurricane and Typhoons status across Years"
   ]
  },
  {
   "cell_type": "code",
   "execution_count": 57,
   "id": "317ae9a0",
   "metadata": {
    "scrolled": true
   },
   "outputs": [
    {
     "data": {
      "text/plain": [
       "Year\n",
       "1992    890\n",
       "2014    840\n",
       "1990    767\n",
       "1997    725\n",
       "2015    717\n",
       "       ... \n",
       "1952     95\n",
       "1949     82\n",
       "1955     70\n",
       "1964     63\n",
       "1953     52\n",
       "Name: Status, Length: 67, dtype: int64"
      ]
     },
     "execution_count": 57,
     "metadata": {},
     "output_type": "execute_result"
    }
   ],
   "source": [
    "Year_dist=data.groupby(\"Year\")[\"Status\"].count().sort_values(ascending=False)\n",
    "Year_dist"
   ]
  },
  {
   "cell_type": "code",
   "execution_count": 58,
   "id": "11cfec0e",
   "metadata": {},
   "outputs": [],
   "source": [
    "# plot the bar graph for Hurricanes and Typhoons Status across Years"
   ]
  },
  {
   "cell_type": "code",
   "execution_count": 59,
   "id": "5c22322b",
   "metadata": {
    "scrolled": false
   },
   "outputs": [
    {
     "data": {
      "text/plain": [
       "Text(0, 0.5, 'Frequency')"
      ]
     },
     "execution_count": 59,
     "metadata": {},
     "output_type": "execute_result"
    },
    {
     "data": {
      "image/png": "[encoded data removed]",
      "text/plain": [
       "<Figure size 2500x2500 with 1 Axes>"
      ]
     },
     "metadata": {},
     "output_type": "display_data"
    }
   ],
   "source": [
    "Year_dist.plot(kind='bar', figsize=(25,25), title=\"Occurances of Type of Hurricanes and Typhoons Status\",grid=True)\n",
    "plt.ylabel('Frequency')"
   ]
  },
  {
   "cell_type": "markdown",
   "id": "54b1726e",
   "metadata": {},
   "source": [
    "# Inference Of Cyclone status across years"
   ]
  },
  {
   "cell_type": "code",
   "execution_count": null,
   "id": "56e9ba95",
   "metadata": {},
   "outputs": [],
   "source": [
    "a) In the year 1992 there was a maximum occuranced of cyclones in pacific regions, Followed by year 2014 with second highest cyclone\n",
    "b) In the year 1953 There was a minimum occurances of cyclone in pacific Regions"
   ]
  },
  {
   "cell_type": "markdown",
   "id": "52f2de6b",
   "metadata": {},
   "source": [
    "# Exploration Based on Minimun pressure against Cyclones"
   ]
  },
  {
   "cell_type": "code",
   "execution_count": 60,
   "id": "74f813f7",
   "metadata": {},
   "outputs": [],
   "source": [
    "# Average of Hurricane and Typhoons minimum pressure"
   ]
  },
  {
   "cell_type": "code",
   "execution_count": 61,
   "id": "93276e67",
   "metadata": {},
   "outputs": [
    {
     "data": {
      "text/plain": [
       "Status\n",
       " DB     1008.824885\n",
       " PT     1004.000000\n",
       " SD     1003.000000\n",
       " SS     1000.142857\n",
       " LO      989.357221\n",
       " HU      944.000000\n",
       " ST      921.333333\n",
       " EX      132.836364\n",
       " TD      -49.088442\n",
       " HU      -58.430746\n",
       " TS      -70.016475\n",
       " ET     -972.618421\n",
       "Name: Minimum Pressure, dtype: float64"
      ]
     },
     "execution_count": 61,
     "metadata": {},
     "output_type": "execute_result"
    }
   ],
   "source": [
    "Min_pressure_dist=data.groupby(\"Status\")[\"Minimum Pressure\"].mean().sort_values(ascending=False)\n",
    "Min_pressure_dist"
   ]
  },
  {
   "cell_type": "code",
   "execution_count": null,
   "id": "f9acd6d9",
   "metadata": {},
   "outputs": [],
   "source": [
    "# Plotting Graph for Minimum presure againt Cyclone Status"
   ]
  },
  {
   "cell_type": "code",
   "execution_count": 62,
   "id": "3679580c",
   "metadata": {
    "scrolled": false
   },
   "outputs": [
    {
     "data": {
      "text/plain": [
       "Text(0, 0.5, 'Frequency')"
      ]
     },
     "execution_count": 62,
     "metadata": {},
     "output_type": "execute_result"
    },
    {
     "data": {
      "image/png": "[encoded data removed]",
      "text/plain": [
       "<Figure size 2500x2500 with 1 Axes>"
      ]
     },
     "metadata": {},
     "output_type": "display_data"
    }
   ],
   "source": [
    "Min_pressure_dist.plot(kind='bar', figsize=(25,25), title=\"Avg Minimum pressure across Status\",grid=True)\n",
    "plt.ylabel('Frequency')"
   ]
  },
  {
   "cell_type": "markdown",
   "id": "362952c1",
   "metadata": {},
   "source": [
    "# Inference Of Minimum Pressure Accross Cyclones"
   ]
  },
  {
   "cell_type": "code",
   "execution_count": null,
   "id": "7ff0c257",
   "metadata": {},
   "outputs": [],
   "source": [
    "a) DB – Disturbance (of any intensity) has the heighest avg minimum pressure of 1008.82 \n",
    "b) ET-  Extra tropical cyclone has the least minimum pressure "
   ]
  },
  {
   "cell_type": "markdown",
   "id": "ae75143f",
   "metadata": {},
   "source": [
    "# Exploration on Wind Speed of clcones"
   ]
  },
  {
   "cell_type": "code",
   "execution_count": null,
   "id": "3bc1f8c4",
   "metadata": {},
   "outputs": [],
   "source": [
    "# Check for average wind Speed across different Cyclones"
   ]
  },
  {
   "cell_type": "code",
   "execution_count": 63,
   "id": "b08273ca",
   "metadata": {
    "scrolled": true
   },
   "outputs": [
    {
     "data": {
      "text/plain": [
       "Status\n",
       " ST     135.833333\n",
       " HU     105.000000\n",
       " HU      85.380488\n",
       " TS      44.975685\n",
       " SS      42.857143\n",
       " EX      36.000000\n",
       " PT      30.000000\n",
       " ET      29.276316\n",
       " SD      27.500000\n",
       " TD      27.363245\n",
       " LO      23.599562\n",
       " DB      22.903226\n",
       "Name: Maximum Wind, dtype: float64"
      ]
     },
     "execution_count": 63,
     "metadata": {},
     "output_type": "execute_result"
    }
   ],
   "source": [
    "Wind_dist=data.groupby(\"Status\")[\"Maximum Wind\"].mean().sort_values(ascending=False)\n",
    "Wind_dist"
   ]
  },
  {
   "cell_type": "code",
   "execution_count": null,
   "id": "f952a8e3",
   "metadata": {},
   "outputs": [],
   "source": [
    "# Plotting Bar graph for average wind speed across different cyclone status"
   ]
  },
  {
   "cell_type": "code",
   "execution_count": 66,
   "id": "a9725cb7",
   "metadata": {},
   "outputs": [
    {
     "data": {
      "text/plain": [
       "Text(0, 0.5, 'Frequency')"
      ]
     },
     "execution_count": 66,
     "metadata": {},
     "output_type": "execute_result"
    },
    {
     "data": {
      "image/png": "[encoded data removed]",
      "text/plain": [
       "<Figure size 2000x1500 with 1 Axes>"
      ]
     },
     "metadata": {},
     "output_type": "display_data"
    }
   ],
   "source": [
    "Wind_dist.plot(kind='bar', figsize=(20,15), title=\"Avg Minimum pressure across Status\",grid=True)\n",
    "plt.ylabel('Frequency')"
   ]
  },
  {
   "cell_type": "markdown",
   "id": "a338bfb0",
   "metadata": {},
   "source": [
    "# Inference On Max Wind Speed For Different Cyclones Status"
   ]
  },
  {
   "cell_type": "code",
   "execution_count": null,
   "id": "4f0f7aec",
   "metadata": {},
   "outputs": [],
   "source": [
    "a) Synoptic type cyclone has a maximum wind speed average of 135.8 followed by HU – Tropical cyclone of hurricane intensity (> 64 knots) of 105\n",
    "b) Disturbance( Of any Intensity) has a lowest average maximum wind speed  of 22.9"
   ]
  },
  {
   "cell_type": "code",
   "execution_count": null,
   "id": "4d4f00c7",
   "metadata": {},
   "outputs": [],
   "source": []
  },
  {
   "cell_type": "markdown",
   "id": "aff934c9",
   "metadata": {},
   "source": [
    "# Report After Final Analysis"
   ]
  },
  {
   "cell_type": "code",
   "execution_count": null,
   "id": "f7c41f0d",
   "metadata": {},
   "outputs": [],
   "source": [
    "a) For this dataset of Pacific Hurricane and Typhoons \"Decission tree\" is the best suited Model with 96.5%.\n",
    "b) In the data set \"Unnamed cyclone\" has the maximum occurances followed by \"Fernand\" and \"John\"\n",
    "c) \"Tropical Cyclone of Storm Intensity\" cyclone status has maximum Occurances and \"Subtropical Cyclone\" has lowest Occurances.\n",
    "d) Maximum of Cyclones has occured in \"July\" to \"September\" and Minimum has occured from \"November\" to \"March\".\n",
    "e) In the year 1992 had a maximum cyclones followed by 2014\n",
    "f) \"DB\" type status has high avg min pressure of 1008.82 and \"Extra Tropical\" Cyclone has the least minimum avg pressure.\n",
    "g) \"Synoptic Type Cyclone\" has avg maximum wind speed of 135.8 and \"DB\" type cyclone has lowest avg wind speed"
   ]
  },
  {
   "cell_type": "code",
   "execution_count": null,
   "id": "8c24c45d",
   "metadata": {},
   "outputs": [],
   "source": []
  },
  {
   "cell_type": "code",
   "execution_count": null,
   "id": "1f33bf04",
   "metadata": {},
   "outputs": [],
   "source": []
  },
  {
   "cell_type": "code",
   "execution_count": null,
   "id": "cccd2515",
   "metadata": {},
   "outputs": [],
   "source": []
  },
  {
   "cell_type": "code",
   "execution_count": null,
   "id": "afb1e37a",
   "metadata": {},
   "outputs": [],
   "source": []
  },
  {
   "cell_type": "code",
   "execution_count": null,
   "id": "3ebca69e",
   "metadata": {},
   "outputs": [],
   "source": []
  },
  {
   "cell_type": "code",
   "execution_count": null,
   "id": "177c52ad",
   "metadata": {},
   "outputs": [],
   "source": []
  },
  {
   "cell_type": "code",
   "execution_count": null,
   "id": "1c0cd064",
   "metadata": {},
   "outputs": [],
   "source": []
  },
  {
   "cell_type": "code",
   "execution_count": null,
   "id": "f38daa37",
   "metadata": {},
   "outputs": [],
   "source": []
  },
  {
   "cell_type": "code",
   "execution_count": null,
   "id": "88594dbc",
   "metadata": {},
   "outputs": [],
   "source": []
  },
  {
   "cell_type": "code",
   "execution_count": null,
   "id": "7bd38e09",
   "metadata": {},
   "outputs": [],
   "source": []
  },
  {
   "cell_type": "code",
   "execution_count": null,
   "id": "e0613fb7",
   "metadata": {},
   "outputs": [],
   "source": []
  },
  {
   "cell_type": "code",
   "execution_count": null,
   "id": "61ff449b",
   "metadata": {},
   "outputs": [],
   "source": []
  },
  {
   "cell_type": "code",
   "execution_count": null,
   "id": "b41f1baf",
   "metadata": {},
   "outputs": [],
   "source": []
  },
  {
   "cell_type": "code",
   "execution_count": null,
   "id": "991123fc",
   "metadata": {},
   "outputs": [],
   "source": []
  },
  {
   "cell_type": "code",
   "execution_count": null,
   "id": "b1c314a6",
   "metadata": {},
   "outputs": [],
   "source": []
  },
  {
   "cell_type": "code",
   "execution_count": null,
   "id": "9397caf7",
   "metadata": {},
   "outputs": [],
   "source": []
  }
 ],
 "metadata": {
  "kernelspec": {
   "display_name": "Python 3 (ipykernel)",
   "language": "python",
   "name": "python3"
  },
  "language_info": {
   "codemirror_mode": {
    "name": "ipython",
    "version": 3
   },
   "file_extension": ".py",
   "mimetype": "text/x-python",
   "name": "python",
   "nbconvert_exporter": "python",
   "pygments_lexer": "ipython3",
   "version": "3.10.9"
  }
 },
 "nbformat": 4,
 "nbformat_minor": 5
}
